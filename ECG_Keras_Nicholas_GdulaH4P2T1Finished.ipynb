{
  "cells": [
    {
      "cell_type": "markdown",
      "metadata": {
        "id": "1MTl4yEAS2Lp"
      },
      "source": [
        "### Build an MLP for ECG Signal Classification (5 classes)  - Keras\n",
        "This is the implementation of an MLP for classifying the ECG signals. <br>\n",
        "Your task is to design new DNNs for ECG signal classification <br>\n",
        "You can use this file as a template"
      ]
    },
    {
      "cell_type": "code",
      "execution_count": 41,
      "metadata": {
        "id": "SOxMxEdsS-Au"
      },
      "outputs": [],
      "source": [
        "from tensorflow.keras.models import Sequential\n",
        "from tensorflow.keras.layers import Dense\n",
        "from tensorflow.keras.optimizers import Adamax\n",
        "import matplotlib.pyplot as plt\n",
        "from IPython import display\n",
        "import numpy as np\n",
        "import pandas as pd"
      ]
    },
    {
      "cell_type": "code",
      "source": [
        "from google.colab import files\n",
        "\n",
        "uploaded = files.upload()"
      ],
      "metadata": {
        "colab": {
          "base_uri": "https://localhost:8080/",
          "height": 109
        },
        "id": "qeS1SxkW88qO",
        "outputId": "7f8c84aa-e5f4-461d-fb50-b599104701a6"
      },
      "execution_count": 42,
      "outputs": [
        {
          "output_type": "display_data",
          "data": {
            "text/plain": [
              "<IPython.core.display.HTML object>"
            ],
            "text/html": [
              "\n",
              "     <input type=\"file\" id=\"files-ea23c799-33fc-4c0c-af86-ae3265edfddf\" name=\"files[]\" multiple disabled\n",
              "        style=\"border:none\" />\n",
              "     <output id=\"result-ea23c799-33fc-4c0c-af86-ae3265edfddf\">\n",
              "      Upload widget is only available when the cell has been executed in the\n",
              "      current browser session. Please rerun this cell to enable.\n",
              "      </output>\n",
              "      <script>// Copyright 2017 Google LLC\n",
              "//\n",
              "// Licensed under the Apache License, Version 2.0 (the \"License\");\n",
              "// you may not use this file except in compliance with the License.\n",
              "// You may obtain a copy of the License at\n",
              "//\n",
              "//      http://www.apache.org/licenses/LICENSE-2.0\n",
              "//\n",
              "// Unless required by applicable law or agreed to in writing, software\n",
              "// distributed under the License is distributed on an \"AS IS\" BASIS,\n",
              "// WITHOUT WARRANTIES OR CONDITIONS OF ANY KIND, either express or implied.\n",
              "// See the License for the specific language governing permissions and\n",
              "// limitations under the License.\n",
              "\n",
              "/**\n",
              " * @fileoverview Helpers for google.colab Python module.\n",
              " */\n",
              "(function(scope) {\n",
              "function span(text, styleAttributes = {}) {\n",
              "  const element = document.createElement('span');\n",
              "  element.textContent = text;\n",
              "  for (const key of Object.keys(styleAttributes)) {\n",
              "    element.style[key] = styleAttributes[key];\n",
              "  }\n",
              "  return element;\n",
              "}\n",
              "\n",
              "// Max number of bytes which will be uploaded at a time.\n",
              "const MAX_PAYLOAD_SIZE = 100 * 1024;\n",
              "\n",
              "function _uploadFiles(inputId, outputId) {\n",
              "  const steps = uploadFilesStep(inputId, outputId);\n",
              "  const outputElement = document.getElementById(outputId);\n",
              "  // Cache steps on the outputElement to make it available for the next call\n",
              "  // to uploadFilesContinue from Python.\n",
              "  outputElement.steps = steps;\n",
              "\n",
              "  return _uploadFilesContinue(outputId);\n",
              "}\n",
              "\n",
              "// This is roughly an async generator (not supported in the browser yet),\n",
              "// where there are multiple asynchronous steps and the Python side is going\n",
              "// to poll for completion of each step.\n",
              "// This uses a Promise to block the python side on completion of each step,\n",
              "// then passes the result of the previous step as the input to the next step.\n",
              "function _uploadFilesContinue(outputId) {\n",
              "  const outputElement = document.getElementById(outputId);\n",
              "  const steps = outputElement.steps;\n",
              "\n",
              "  const next = steps.next(outputElement.lastPromiseValue);\n",
              "  return Promise.resolve(next.value.promise).then((value) => {\n",
              "    // Cache the last promise value to make it available to the next\n",
              "    // step of the generator.\n",
              "    outputElement.lastPromiseValue = value;\n",
              "    return next.value.response;\n",
              "  });\n",
              "}\n",
              "\n",
              "/**\n",
              " * Generator function which is called between each async step of the upload\n",
              " * process.\n",
              " * @param {string} inputId Element ID of the input file picker element.\n",
              " * @param {string} outputId Element ID of the output display.\n",
              " * @return {!Iterable<!Object>} Iterable of next steps.\n",
              " */\n",
              "function* uploadFilesStep(inputId, outputId) {\n",
              "  const inputElement = document.getElementById(inputId);\n",
              "  inputElement.disabled = false;\n",
              "\n",
              "  const outputElement = document.getElementById(outputId);\n",
              "  outputElement.innerHTML = '';\n",
              "\n",
              "  const pickedPromise = new Promise((resolve) => {\n",
              "    inputElement.addEventListener('change', (e) => {\n",
              "      resolve(e.target.files);\n",
              "    });\n",
              "  });\n",
              "\n",
              "  const cancel = document.createElement('button');\n",
              "  inputElement.parentElement.appendChild(cancel);\n",
              "  cancel.textContent = 'Cancel upload';\n",
              "  const cancelPromise = new Promise((resolve) => {\n",
              "    cancel.onclick = () => {\n",
              "      resolve(null);\n",
              "    };\n",
              "  });\n",
              "\n",
              "  // Wait for the user to pick the files.\n",
              "  const files = yield {\n",
              "    promise: Promise.race([pickedPromise, cancelPromise]),\n",
              "    response: {\n",
              "      action: 'starting',\n",
              "    }\n",
              "  };\n",
              "\n",
              "  cancel.remove();\n",
              "\n",
              "  // Disable the input element since further picks are not allowed.\n",
              "  inputElement.disabled = true;\n",
              "\n",
              "  if (!files) {\n",
              "    return {\n",
              "      response: {\n",
              "        action: 'complete',\n",
              "      }\n",
              "    };\n",
              "  }\n",
              "\n",
              "  for (const file of files) {\n",
              "    const li = document.createElement('li');\n",
              "    li.append(span(file.name, {fontWeight: 'bold'}));\n",
              "    li.append(span(\n",
              "        `(${file.type || 'n/a'}) - ${file.size} bytes, ` +\n",
              "        `last modified: ${\n",
              "            file.lastModifiedDate ? file.lastModifiedDate.toLocaleDateString() :\n",
              "                                    'n/a'} - `));\n",
              "    const percent = span('0% done');\n",
              "    li.appendChild(percent);\n",
              "\n",
              "    outputElement.appendChild(li);\n",
              "\n",
              "    const fileDataPromise = new Promise((resolve) => {\n",
              "      const reader = new FileReader();\n",
              "      reader.onload = (e) => {\n",
              "        resolve(e.target.result);\n",
              "      };\n",
              "      reader.readAsArrayBuffer(file);\n",
              "    });\n",
              "    // Wait for the data to be ready.\n",
              "    let fileData = yield {\n",
              "      promise: fileDataPromise,\n",
              "      response: {\n",
              "        action: 'continue',\n",
              "      }\n",
              "    };\n",
              "\n",
              "    // Use a chunked sending to avoid message size limits. See b/62115660.\n",
              "    let position = 0;\n",
              "    do {\n",
              "      const length = Math.min(fileData.byteLength - position, MAX_PAYLOAD_SIZE);\n",
              "      const chunk = new Uint8Array(fileData, position, length);\n",
              "      position += length;\n",
              "\n",
              "      const base64 = btoa(String.fromCharCode.apply(null, chunk));\n",
              "      yield {\n",
              "        response: {\n",
              "          action: 'append',\n",
              "          file: file.name,\n",
              "          data: base64,\n",
              "        },\n",
              "      };\n",
              "\n",
              "      let percentDone = fileData.byteLength === 0 ?\n",
              "          100 :\n",
              "          Math.round((position / fileData.byteLength) * 100);\n",
              "      percent.textContent = `${percentDone}% done`;\n",
              "\n",
              "    } while (position < fileData.byteLength);\n",
              "  }\n",
              "\n",
              "  // All done.\n",
              "  yield {\n",
              "    response: {\n",
              "      action: 'complete',\n",
              "    }\n",
              "  };\n",
              "}\n",
              "\n",
              "scope.google = scope.google || {};\n",
              "scope.google.colab = scope.google.colab || {};\n",
              "scope.google.colab._files = {\n",
              "  _uploadFiles,\n",
              "  _uploadFilesContinue,\n",
              "};\n",
              "})(self);\n",
              "</script> "
            ]
          },
          "metadata": {}
        },
        {
          "output_type": "stream",
          "name": "stdout",
          "text": [
            "Saving ECG_dataX.csv to ECG_dataX (1).csv\n",
            "Saving ECG_dataY.csv to ECG_dataY (1).csv\n"
          ]
        }
      ]
    },
    {
      "cell_type": "markdown",
      "metadata": {
        "id": "kQOrBDYmOZjK"
      },
      "source": [
        "### Load the data"
      ]
    },
    {
      "cell_type": "code",
      "execution_count": 43,
      "metadata": {
        "id": "RsFnMl7ROZjK"
      },
      "outputs": [],
      "source": [
        "X=pd.read_csv('ECG_dataX.csv')\n",
        "Y=pd.read_csv('ECG_dataY.csv')"
      ]
    },
    {
      "cell_type": "code",
      "execution_count": 44,
      "metadata": {
        "colab": {
          "base_uri": "https://localhost:8080/"
        },
        "id": "6t4WUhbDOZjL",
        "outputId": "eaf1745c-dfec-418a-b9ab-b17710dc45b0"
      },
      "outputs": [
        {
          "output_type": "execute_result",
          "data": {
            "text/plain": [
              "(3841, 187)"
            ]
          },
          "metadata": {},
          "execution_count": 44
        }
      ],
      "source": [
        "#convert dataframe to numpy array\n",
        "X=X.values\n",
        "X.shape"
      ]
    },
    {
      "cell_type": "code",
      "execution_count": 45,
      "metadata": {
        "colab": {
          "base_uri": "https://localhost:8080/"
        },
        "id": "VwmqQyBZOZjM",
        "outputId": "9cac22ee-f15c-4e0e-f41f-21b99c402f78"
      },
      "outputs": [
        {
          "output_type": "execute_result",
          "data": {
            "text/plain": [
              "(3841, 1)"
            ]
          },
          "metadata": {},
          "execution_count": 45
        }
      ],
      "source": [
        "#convert dataframe to numpy array\n",
        "Y=Y.values\n",
        "Y.shape"
      ]
    },
    {
      "cell_type": "code",
      "execution_count": 46,
      "metadata": {
        "colab": {
          "base_uri": "https://localhost:8080/"
        },
        "id": "9P_7x-_oOZjM",
        "outputId": "e81a00a1-468c-411e-a6c9-086010a2e495"
      },
      "outputs": [
        {
          "output_type": "execute_result",
          "data": {
            "text/plain": [
              "(3841,)"
            ]
          },
          "metadata": {},
          "execution_count": 46
        }
      ],
      "source": [
        "#reshape Y into a 1D array\n",
        "Y=Y.reshape(-1)\n",
        "Y.shape"
      ]
    },
    {
      "cell_type": "code",
      "execution_count": 47,
      "metadata": {
        "colab": {
          "base_uri": "https://localhost:8080/",
          "height": 319
        },
        "id": "wYaJ9_X3QDPI",
        "outputId": "9a3c32fc-bb58-4d72-e602-983171111ae3"
      },
      "outputs": [
        {
          "output_type": "execute_result",
          "data": {
            "text/plain": [
              "(array([800.,   0., 800.,   0.,   0., 800.,   0., 641.,   0., 800.]),\n",
              " array([0. , 0.4, 0.8, 1.2, 1.6, 2. , 2.4, 2.8, 3.2, 3.6, 4. ]),\n",
              " <a list of 10 Patch objects>)"
            ]
          },
          "metadata": {},
          "execution_count": 47
        },
        {
          "output_type": "display_data",
          "data": {
            "text/plain": [
              "<Figure size 432x288 with 1 Axes>"
            ],
            "image/png": "[encoded data removed]"
          },
          "metadata": {
            "needs_background": "light"
          }
        }
      ],
      "source": [
        "plt.hist(Y)"
      ]
    },
    {
      "cell_type": "code",
      "execution_count": 48,
      "metadata": {
        "id": "pLlBWI0ROzNo"
      },
      "outputs": [],
      "source": [
        "fs=125  # sampling frequency\n",
        "Ts=1/fs # sampling interval\n",
        "N=187 # the number of timepoints\n",
        "Duration=N*Ts # duration of a signal\n",
        "t=np.linspace(0, Duration-Ts, N) # array of timepoints"
      ]
    },
    {
      "cell_type": "code",
      "execution_count": 51,
      "metadata": {
        "colab": {
          "base_uri": "https://localhost:8080/",
          "height": 745
        },
        "id": "sXzrl7-PO00f",
        "outputId": "b7cec91d-85a7-44f8-d331-f1c6d0266c07"
      },
      "outputs": [
        {
          "output_type": "display_data",
          "data": {
            "text/plain": [
              "<Figure size 720x720 with 5 Axes>"
            ],
            "image/png": "[encoded data removed]"
          },
          "metadata": {
            "needs_background": "light"
          }
        }
      ],
      "source": [
        "fig, ax = plt.subplots(5,1,constrained_layout=True, figsize=(10,10))\n",
        "for c in range(0, 5):   \n",
        "    for n in range(0, 3):\n",
        "        idx=np.random.randint(0,10)\n",
        "        ax[c].plot(t, X[Y==c][idx])        \n",
        "        ax[c].set_xlabel('time t [seconds]', fontsize=16)\n",
        "        ax[c].set_ylabel('amplitude', fontsize=16)\n",
        "    ax[c].set_title('class '+str(c), fontsize=16)"
      ]
    },
    {
      "cell_type": "code",
      "execution_count": 52,
      "metadata": {
        "id": "qD6ckUN0OZjO"
      },
      "outputs": [],
      "source": [
        "from sklearn.model_selection import train_test_split\n",
        "X_train, X_test, Y_train, Y_test = train_test_split(X, Y, test_size=0.2, random_state=0)\n",
        "X_train, X_val, Y_train, Y_val = train_test_split(X_train, Y_train, test_size=0.1, random_state=0)\n",
        "#note: add a channel axis to the data if the network is CNN: see the examples presented in class"
      ]
    },
    {
      "cell_type": "markdown",
      "metadata": {
        "id": "zyH0UvuMOZjR"
      },
      "source": [
        "### Define the MLP model  (Replace this with your network and rename the file)"
      ]
    },
    {
      "cell_type": "code",
      "execution_count": 53,
      "metadata": {
        "colab": {
          "base_uri": "https://localhost:8080/"
        },
        "id": "QTdhdBsfOZjR",
        "outputId": "78f69edb-9cea-4fee-e200-ae8f908e075a"
      },
      "outputs": [
        {
          "output_type": "stream",
          "name": "stdout",
          "text": [
            "Model: \"model_2\"\n",
            "__________________________________________________________________________________________________\n",
            " Layer (type)                   Output Shape         Param #     Connected to                     \n",
            "==================================================================================================\n",
            " input_3 (InputLayer)           [(None, 187)]        0           []                               \n",
            "                                                                                                  \n",
            " dense_12 (Dense)               (None, 187)          35156       ['input_3[0][0]']                \n",
            "                                                                                                  \n",
            " reshape_12 (Reshape)           (None, 17, 11)       0           ['dense_12[0][0]']               \n",
            "                                                                                                  \n",
            " average_pooling1d_6 (AveragePo  (None, 8, 11)       0           ['reshape_12[0][0]']             \n",
            " oling1D)                                                                                         \n",
            "                                                                                                  \n",
            " dense_13 (Dense)               (None, 88)           16544       ['dense_12[0][0]']               \n",
            "                                                                                                  \n",
            " reshape_13 (Reshape)           (None, 88)           0           ['average_pooling1d_6[0][0]']    \n",
            "                                                                                                  \n",
            " add_6 (Add)                    (None, 88)           0           ['dense_13[0][0]',               \n",
            "                                                                  'reshape_13[0][0]']             \n",
            "                                                                                                  \n",
            " reshape_14 (Reshape)           (None, 8, 11)        0           ['add_6[0][0]']                  \n",
            "                                                                                                  \n",
            " layer_normalization_6 (LayerNo  (None, 88)          176         ['add_6[0][0]']                  \n",
            " rmalization)                                                                                     \n",
            "                                                                                                  \n",
            " average_pooling1d_7 (AveragePo  (None, 4, 11)       0           ['reshape_14[0][0]']             \n",
            " oling1D)                                                                                         \n",
            "                                                                                                  \n",
            " dense_14 (Dense)               (None, 44)           3916        ['layer_normalization_6[0][0]']  \n",
            "                                                                                                  \n",
            " reshape_15 (Reshape)           (None, 44)           0           ['average_pooling1d_7[0][0]']    \n",
            "                                                                                                  \n",
            " add_7 (Add)                    (None, 44)           0           ['dense_14[0][0]',               \n",
            "                                                                  'reshape_15[0][0]']             \n",
            "                                                                                                  \n",
            " reshape_16 (Reshape)           (None, 4, 11)        0           ['add_7[0][0]']                  \n",
            "                                                                                                  \n",
            " layer_normalization_7 (LayerNo  (None, 44)          88          ['add_7[0][0]']                  \n",
            " rmalization)                                                                                     \n",
            "                                                                                                  \n",
            " average_pooling1d_8 (AveragePo  (None, 2, 11)       0           ['reshape_16[0][0]']             \n",
            " oling1D)                                                                                         \n",
            "                                                                                                  \n",
            " dense_15 (Dense)               (None, 22)           990         ['layer_normalization_7[0][0]']  \n",
            "                                                                                                  \n",
            " reshape_17 (Reshape)           (None, 22)           0           ['average_pooling1d_8[0][0]']    \n",
            "                                                                                                  \n",
            " add_8 (Add)                    (None, 22)           0           ['dense_15[0][0]',               \n",
            "                                                                  'reshape_17[0][0]']             \n",
            "                                                                                                  \n",
            " layer_normalization_8 (LayerNo  (None, 22)          44          ['add_8[0][0]']                  \n",
            " rmalization)                                                                                     \n",
            "                                                                                                  \n",
            " dense_16 (Dense)               (None, 187)          4301        ['layer_normalization_8[0][0]']  \n",
            "                                                                                                  \n",
            " dense_17 (Dense)               (None, 187)          35156       ['dense_16[0][0]']               \n",
            "                                                                                                  \n",
            " activation_2 (Activation)      (None, 187)          0           ['dense_17[0][0]']               \n",
            "                                                                                                  \n",
            "==================================================================================================\n",
            "Total params: 96,371\n",
            "Trainable params: 96,371\n",
            "Non-trainable params: 0\n",
            "__________________________________________________________________________________________________\n"
          ]
        },
        {
          "output_type": "stream",
          "name": "stderr",
          "text": [
            "/usr/local/lib/python3.7/dist-packages/keras/optimizers/optimizer_v2/adamax.py:95: UserWarning: The `lr` argument is deprecated, use `learning_rate` instead.\n",
            "  super(Adamax, self).__init__(name, **kwargs)\n"
          ]
        }
      ],
      "source": [
        "#model = Sequential()\n",
        "#model.add(Dense(units=256, activation='relu', input_shape=(187,)))\n",
        "#model.add(Dense(units=256, activation='relu'))\n",
        "#model.add(Dense(units=5, activation='softmax'))\n",
        "#model.compile(loss='sparse_categorical_crossentropy', optimizer=Adamax(lr=0.001), metrics=['accuracy'])\n",
        "#model.summary()\n",
        "\n",
        "from tensorflow.keras import Model, Input\n",
        "from tensorflow.keras.layers import Dense\n",
        "from tensorflow.keras.layers import *\n",
        "from tensorflow.keras.layers import AveragePooling1D\n",
        "import keras.layers.normalization\n",
        "from tensorflow.keras.layers import LayerNormalization\n",
        "\n",
        "\n",
        "inputs = Input(shape=(187,))\n",
        "linear1=Dense(187, activation='relu')(inputs)\n",
        "\n",
        "linear2 = Dense(88,activation='relu')(linear1)\n",
        "reshape1 = Reshape([17,11])(linear1)\n",
        "avg1 = AveragePooling1D(pool_size=2, strides=2)(reshape1)\n",
        "reshape11 = Reshape([88])(avg1)\n",
        "added1 = keras.layers.Add()([linear2, reshape11])\n",
        "\n",
        "norm_layer1 = LayerNormalization()(added1)\n",
        "layer3 = Dense(44,activation='relu')(norm_layer1)\n",
        "\n",
        "reshape2 = Reshape([8,11])(added1)\n",
        "avg2 = AveragePooling1D(pool_size=2,strides=2)(reshape2)\n",
        "reshape22 = Reshape([44])(avg2)\n",
        "\n",
        "\n",
        "added2 = keras.layers.Add()([layer3, reshape22])\n",
        "\n",
        "norm_layer2 = LayerNormalization()(added2)\n",
        "layer4 = Dense(22,activation='relu')(norm_layer2)\n",
        "\n",
        "reshape3 = Reshape([4,11])(added2)\n",
        "avg3 = AveragePooling1D(pool_size=2,strides=2)(reshape3)\n",
        "reshape33 = Reshape([22])(avg3)\n",
        "\n",
        "\n",
        "added3 = keras.layers.Add()([layer4, reshape33])\n",
        "\n",
        "norm_layer3 = LayerNormalization()(added3)\n",
        "layer5 = Dense(187,activation='relu')(norm_layer3)\n",
        "\n",
        "layer6 = Dense(187,activation='relu')(layer5)\n",
        "\n",
        "output = keras.layers.Activation('softmax')(layer6)\n",
        "\n",
        "model = Model(inputs=inputs, outputs=output)\n",
        "\n",
        "\n",
        "\n",
        "model.compile(loss='sparse_categorical_crossentropy', optimizer=Adamax(lr=0.001), metrics=['accuracy'])\n",
        "model.summary()"
      ]
    },
    {
      "cell_type": "code",
      "execution_count": 54,
      "metadata": {
        "id": "OOXjQJ_OOZjS"
      },
      "outputs": [],
      "source": [
        "loss_train_list=[]\n",
        "loss_val_list=[]\n",
        "acc_train_list=[]\n",
        "acc_val_list=[]\n",
        "epoch_save=-1"
      ]
    },
    {
      "cell_type": "markdown",
      "metadata": {
        "id": "XEVFA7sxOZjS"
      },
      "source": [
        "### Train the model"
      ]
    },
    {
      "cell_type": "code",
      "execution_count": 55,
      "metadata": {
        "colab": {
          "base_uri": "https://localhost:8080/"
        },
        "id": "5lz4J2sMOZjS",
        "outputId": "7a87dd37-8106-4a93-bf15-da39fa960dc1",
        "scrolled": false
      },
      "outputs": [
        {
          "output_type": "stream",
          "name": "stdout",
          "text": [
            "epoch 0\n",
            "44/44 [==============================] - 2s 16ms/step - loss: 4.1533 - accuracy: 0.3802 - val_loss: 2.9111 - val_accuracy: 0.4513\n",
            "epoch 1\n",
            "44/44 [==============================] - 0s 10ms/step - loss: 1.8000 - accuracy: 0.5803 - val_loss: 1.0721 - val_accuracy: 0.6201\n",
            "epoch 2\n",
            "44/44 [==============================] - 0s 9ms/step - loss: 0.8579 - accuracy: 0.7185 - val_loss: 0.8481 - val_accuracy: 0.7175\n",
            "epoch 3\n",
            "44/44 [==============================] - 0s 10ms/step - loss: 0.6812 - accuracy: 0.7666 - val_loss: 0.7128 - val_accuracy: 0.7240\n",
            "epoch 4\n",
            "44/44 [==============================] - 0s 9ms/step - loss: 0.5894 - accuracy: 0.7894 - val_loss: 0.6486 - val_accuracy: 0.7565\n",
            "epoch 5\n",
            "44/44 [==============================] - 0s 9ms/step - loss: 0.5205 - accuracy: 0.8169 - val_loss: 0.5971 - val_accuracy: 0.7857\n",
            "epoch 6\n",
            "44/44 [==============================] - 0s 9ms/step - loss: 0.4682 - accuracy: 0.8368 - val_loss: 0.5527 - val_accuracy: 0.8019\n",
            "epoch 7\n",
            "44/44 [==============================] - 0s 9ms/step - loss: 0.4207 - accuracy: 0.8556 - val_loss: 0.5271 - val_accuracy: 0.8182\n",
            "epoch 8\n",
            "44/44 [==============================] - 0s 9ms/step - loss: 0.3919 - accuracy: 0.8575 - val_loss: 0.5153 - val_accuracy: 0.8019\n",
            "epoch 9\n",
            "44/44 [==============================] - 0s 9ms/step - loss: 0.3634 - accuracy: 0.8716 - val_loss: 0.5009 - val_accuracy: 0.8117\n",
            "epoch 10\n",
            "44/44 [==============================] - 0s 8ms/step - loss: 0.3337 - accuracy: 0.8810 - val_loss: 0.5060 - val_accuracy: 0.8247\n",
            "epoch 11\n",
            "44/44 [==============================] - 0s 9ms/step - loss: 0.3048 - accuracy: 0.8969 - val_loss: 0.5140 - val_accuracy: 0.8149\n",
            "epoch 12\n",
            "44/44 [==============================] - 0s 9ms/step - loss: 0.2888 - accuracy: 0.9034 - val_loss: 0.5255 - val_accuracy: 0.8052\n",
            "epoch 13\n",
            "44/44 [==============================] - 0s 9ms/step - loss: 0.2703 - accuracy: 0.9041 - val_loss: 0.5172 - val_accuracy: 0.8149\n",
            "epoch 14\n",
            "44/44 [==============================] - 0s 9ms/step - loss: 0.2514 - accuracy: 0.9161 - val_loss: 0.5000 - val_accuracy: 0.8409\n",
            "epoch 15\n",
            "44/44 [==============================] - 0s 9ms/step - loss: 0.2409 - accuracy: 0.9161 - val_loss: 0.5224 - val_accuracy: 0.8279\n",
            "epoch 16\n",
            "44/44 [==============================] - 0s 9ms/step - loss: 0.2242 - accuracy: 0.9219 - val_loss: 0.5290 - val_accuracy: 0.8344\n",
            "epoch 17\n",
            "44/44 [==============================] - 0s 9ms/step - loss: 0.2036 - accuracy: 0.9323 - val_loss: 0.5194 - val_accuracy: 0.8474\n",
            "epoch 18\n",
            "44/44 [==============================] - 0s 9ms/step - loss: 0.1889 - accuracy: 0.9370 - val_loss: 0.5189 - val_accuracy: 0.8377\n",
            "epoch 19\n",
            "44/44 [==============================] - 0s 8ms/step - loss: 0.1699 - accuracy: 0.9443 - val_loss: 0.5617 - val_accuracy: 0.8344\n",
            "epoch 20\n",
            "44/44 [==============================] - 0s 9ms/step - loss: 0.1720 - accuracy: 0.9407 - val_loss: 0.5260 - val_accuracy: 0.8312\n",
            "epoch 21\n",
            "44/44 [==============================] - 0s 10ms/step - loss: 0.1496 - accuracy: 0.9541 - val_loss: 0.5512 - val_accuracy: 0.8312\n",
            "epoch 22\n",
            "44/44 [==============================] - 0s 10ms/step - loss: 0.1469 - accuracy: 0.9526 - val_loss: 0.5518 - val_accuracy: 0.8409\n",
            "epoch 23\n",
            "44/44 [==============================] - 0s 10ms/step - loss: 0.1329 - accuracy: 0.9577 - val_loss: 0.5683 - val_accuracy: 0.8279\n",
            "epoch 24\n",
            "44/44 [==============================] - 0s 9ms/step - loss: 0.1180 - accuracy: 0.9620 - val_loss: 0.5819 - val_accuracy: 0.8182\n",
            "epoch 25\n",
            "44/44 [==============================] - 0s 10ms/step - loss: 0.1360 - accuracy: 0.9522 - val_loss: 0.6023 - val_accuracy: 0.8377\n",
            "epoch 26\n",
            "44/44 [==============================] - 0s 10ms/step - loss: 0.1065 - accuracy: 0.9660 - val_loss: 0.5807 - val_accuracy: 0.8279\n",
            "epoch 27\n",
            "44/44 [==============================] - 0s 10ms/step - loss: 0.1104 - accuracy: 0.9674 - val_loss: 0.5833 - val_accuracy: 0.8442\n",
            "epoch 28\n",
            "44/44 [==============================] - 0s 10ms/step - loss: 0.0959 - accuracy: 0.9703 - val_loss: 0.6058 - val_accuracy: 0.8442\n",
            "epoch 29\n",
            "44/44 [==============================] - 0s 9ms/step - loss: 0.0895 - accuracy: 0.9703 - val_loss: 0.6714 - val_accuracy: 0.8279\n",
            "epoch 30\n",
            "44/44 [==============================] - 0s 9ms/step - loss: 0.0851 - accuracy: 0.9747 - val_loss: 0.6737 - val_accuracy: 0.8312\n",
            "epoch 31\n",
            "44/44 [==============================] - 0s 9ms/step - loss: 0.0854 - accuracy: 0.9736 - val_loss: 0.6474 - val_accuracy: 0.8409\n",
            "epoch 32\n",
            "44/44 [==============================] - 0s 9ms/step - loss: 0.0671 - accuracy: 0.9790 - val_loss: 0.6418 - val_accuracy: 0.8377\n",
            "epoch 33\n",
            "44/44 [==============================] - 0s 9ms/step - loss: 0.0620 - accuracy: 0.9830 - val_loss: 0.6807 - val_accuracy: 0.8506\n",
            "epoch 34\n",
            "44/44 [==============================] - 0s 9ms/step - loss: 0.0519 - accuracy: 0.9855 - val_loss: 0.6590 - val_accuracy: 0.8442\n",
            "epoch 35\n",
            "44/44 [==============================] - 0s 9ms/step - loss: 0.0613 - accuracy: 0.9812 - val_loss: 0.7038 - val_accuracy: 0.8409\n",
            "epoch 36\n",
            "44/44 [==============================] - 0s 9ms/step - loss: 0.0502 - accuracy: 0.9870 - val_loss: 0.7100 - val_accuracy: 0.8312\n",
            "epoch 37\n",
            "44/44 [==============================] - 0s 9ms/step - loss: 0.0436 - accuracy: 0.9870 - val_loss: 0.7444 - val_accuracy: 0.8279\n",
            "epoch 38\n",
            "44/44 [==============================] - 0s 10ms/step - loss: 0.0448 - accuracy: 0.9888 - val_loss: 0.7572 - val_accuracy: 0.8344\n",
            "epoch 39\n",
            "44/44 [==============================] - 0s 9ms/step - loss: 0.0363 - accuracy: 0.9910 - val_loss: 0.7609 - val_accuracy: 0.8149\n",
            "epoch 40\n",
            "44/44 [==============================] - 0s 9ms/step - loss: 0.0423 - accuracy: 0.9873 - val_loss: 0.7448 - val_accuracy: 0.8247\n",
            "epoch 41\n",
            "44/44 [==============================] - 0s 9ms/step - loss: 0.0354 - accuracy: 0.9895 - val_loss: 0.7840 - val_accuracy: 0.8247\n",
            "epoch 42\n",
            "44/44 [==============================] - 0s 9ms/step - loss: 0.0357 - accuracy: 0.9895 - val_loss: 0.7935 - val_accuracy: 0.8312\n",
            "epoch 43\n",
            "44/44 [==============================] - 0s 10ms/step - loss: 0.0324 - accuracy: 0.9910 - val_loss: 0.7825 - val_accuracy: 0.8344\n",
            "epoch 44\n",
            "44/44 [==============================] - 0s 10ms/step - loss: 0.0322 - accuracy: 0.9902 - val_loss: 0.8538 - val_accuracy: 0.8117\n",
            "epoch 45\n",
            "44/44 [==============================] - 0s 10ms/step - loss: 0.0324 - accuracy: 0.9928 - val_loss: 0.8221 - val_accuracy: 0.8247\n",
            "epoch 46\n",
            "44/44 [==============================] - 0s 11ms/step - loss: 0.0239 - accuracy: 0.9946 - val_loss: 0.8557 - val_accuracy: 0.8247\n",
            "epoch 47\n",
            "44/44 [==============================] - 0s 9ms/step - loss: 0.0350 - accuracy: 0.9881 - val_loss: 0.8293 - val_accuracy: 0.8344\n",
            "epoch 48\n",
            "44/44 [==============================] - 0s 10ms/step - loss: 0.0351 - accuracy: 0.9884 - val_loss: 0.8775 - val_accuracy: 0.8117\n",
            "epoch 49\n",
            "44/44 [==============================] - 0s 10ms/step - loss: 0.0458 - accuracy: 0.9837 - val_loss: 0.8846 - val_accuracy: 0.8279\n",
            "epoch 50\n",
            "44/44 [==============================] - 0s 10ms/step - loss: 0.0372 - accuracy: 0.9866 - val_loss: 0.8864 - val_accuracy: 0.8247\n",
            "epoch 51\n",
            "44/44 [==============================] - 0s 9ms/step - loss: 0.0267 - accuracy: 0.9917 - val_loss: 0.8784 - val_accuracy: 0.8312\n",
            "epoch 52\n",
            "44/44 [==============================] - 0s 9ms/step - loss: 0.0160 - accuracy: 0.9967 - val_loss: 0.8552 - val_accuracy: 0.8312\n",
            "epoch 53\n",
            "44/44 [==============================] - 0s 9ms/step - loss: 0.0166 - accuracy: 0.9967 - val_loss: 0.8544 - val_accuracy: 0.8377\n",
            "epoch 54\n",
            "44/44 [==============================] - 0s 9ms/step - loss: 0.0125 - accuracy: 0.9982 - val_loss: 0.8773 - val_accuracy: 0.8474\n",
            "epoch 55\n",
            "44/44 [==============================] - 0s 9ms/step - loss: 0.0156 - accuracy: 0.9960 - val_loss: 0.8751 - val_accuracy: 0.8377\n",
            "epoch 56\n",
            "44/44 [==============================] - 0s 9ms/step - loss: 0.0131 - accuracy: 0.9960 - val_loss: 0.8705 - val_accuracy: 0.8474\n",
            "epoch 57\n",
            "44/44 [==============================] - 0s 9ms/step - loss: 0.0114 - accuracy: 0.9982 - val_loss: 0.8772 - val_accuracy: 0.8377\n",
            "epoch 58\n",
            "44/44 [==============================] - 0s 9ms/step - loss: 0.0115 - accuracy: 0.9975 - val_loss: 0.8790 - val_accuracy: 0.8409\n",
            "epoch 59\n",
            "44/44 [==============================] - 0s 9ms/step - loss: 0.0100 - accuracy: 0.9989 - val_loss: 0.9185 - val_accuracy: 0.8312\n",
            "epoch 60\n",
            "44/44 [==============================] - 0s 9ms/step - loss: 0.0112 - accuracy: 0.9971 - val_loss: 0.8839 - val_accuracy: 0.8377\n",
            "epoch 61\n",
            "44/44 [==============================] - 0s 10ms/step - loss: 0.0097 - accuracy: 0.9978 - val_loss: 0.8956 - val_accuracy: 0.8312\n",
            "epoch 62\n",
            "44/44 [==============================] - 0s 9ms/step - loss: 0.0197 - accuracy: 0.9953 - val_loss: 0.9413 - val_accuracy: 0.8247\n",
            "epoch 63\n",
            "44/44 [==============================] - 0s 10ms/step - loss: 0.0129 - accuracy: 0.9975 - val_loss: 0.9249 - val_accuracy: 0.8377\n",
            "epoch 64\n",
            "44/44 [==============================] - 0s 9ms/step - loss: 0.0105 - accuracy: 0.9975 - val_loss: 0.9473 - val_accuracy: 0.8377\n",
            "epoch 65\n",
            "44/44 [==============================] - 0s 9ms/step - loss: 0.0084 - accuracy: 0.9978 - val_loss: 0.9543 - val_accuracy: 0.8279\n",
            "epoch 66\n",
            "44/44 [==============================] - 0s 9ms/step - loss: 0.0164 - accuracy: 0.9957 - val_loss: 1.0421 - val_accuracy: 0.8279\n",
            "epoch 67\n",
            "44/44 [==============================] - 0s 9ms/step - loss: 0.0831 - accuracy: 0.9747 - val_loss: 1.0490 - val_accuracy: 0.8247\n",
            "epoch 68\n",
            "44/44 [==============================] - 0s 9ms/step - loss: 0.0262 - accuracy: 0.9931 - val_loss: 0.9306 - val_accuracy: 0.8506\n",
            "epoch 69\n",
            "44/44 [==============================] - 0s 10ms/step - loss: 0.0112 - accuracy: 0.9975 - val_loss: 0.9195 - val_accuracy: 0.8506\n",
            "epoch 70\n",
            "44/44 [==============================] - 0s 9ms/step - loss: 0.0096 - accuracy: 0.9986 - val_loss: 0.9608 - val_accuracy: 0.8312\n",
            "epoch 71\n",
            "44/44 [==============================] - 0s 9ms/step - loss: 0.0078 - accuracy: 0.9989 - val_loss: 0.9673 - val_accuracy: 0.8474\n",
            "epoch 72\n",
            "44/44 [==============================] - 0s 9ms/step - loss: 0.0073 - accuracy: 0.9986 - val_loss: 0.9473 - val_accuracy: 0.8474\n",
            "epoch 73\n",
            "44/44 [==============================] - 0s 10ms/step - loss: 0.0090 - accuracy: 0.9982 - val_loss: 0.9909 - val_accuracy: 0.8409\n",
            "epoch 74\n",
            "44/44 [==============================] - 0s 10ms/step - loss: 0.0079 - accuracy: 0.9975 - val_loss: 0.9675 - val_accuracy: 0.8442\n",
            "epoch 75\n",
            "44/44 [==============================] - 0s 10ms/step - loss: 0.0111 - accuracy: 0.9971 - val_loss: 1.0750 - val_accuracy: 0.8214\n",
            "epoch 76\n",
            "44/44 [==============================] - 0s 9ms/step - loss: 0.0094 - accuracy: 0.9971 - val_loss: 0.9702 - val_accuracy: 0.8409\n",
            "epoch 77\n",
            "44/44 [==============================] - 0s 11ms/step - loss: 0.0066 - accuracy: 0.9989 - val_loss: 0.9881 - val_accuracy: 0.8377\n",
            "epoch 78\n",
            "44/44 [==============================] - 0s 9ms/step - loss: 0.0087 - accuracy: 0.9975 - val_loss: 0.9944 - val_accuracy: 0.8312\n",
            "epoch 79\n",
            "44/44 [==============================] - 0s 10ms/step - loss: 0.0084 - accuracy: 0.9978 - val_loss: 1.0136 - val_accuracy: 0.8344\n",
            "epoch 80\n",
            "44/44 [==============================] - 0s 9ms/step - loss: 0.0054 - accuracy: 0.9989 - val_loss: 0.9873 - val_accuracy: 0.8409\n",
            "epoch 81\n",
            "44/44 [==============================] - 0s 9ms/step - loss: 0.0063 - accuracy: 0.9982 - val_loss: 1.0116 - val_accuracy: 0.8344\n",
            "epoch 82\n",
            "44/44 [==============================] - 0s 9ms/step - loss: 0.0082 - accuracy: 0.9975 - val_loss: 0.9933 - val_accuracy: 0.8409\n",
            "epoch 83\n",
            "44/44 [==============================] - 0s 10ms/step - loss: 0.0098 - accuracy: 0.9975 - val_loss: 1.0088 - val_accuracy: 0.8409\n",
            "epoch 84\n",
            "44/44 [==============================] - 0s 10ms/step - loss: 0.0231 - accuracy: 0.9928 - val_loss: 0.9892 - val_accuracy: 0.8377\n",
            "epoch 85\n",
            "44/44 [==============================] - 0s 10ms/step - loss: 0.0207 - accuracy: 0.9924 - val_loss: 1.0522 - val_accuracy: 0.8182\n",
            "epoch 86\n",
            "44/44 [==============================] - 1s 12ms/step - loss: 0.0218 - accuracy: 0.9924 - val_loss: 1.0361 - val_accuracy: 0.8344\n",
            "epoch 87\n",
            "44/44 [==============================] - 1s 13ms/step - loss: 0.0165 - accuracy: 0.9946 - val_loss: 1.0469 - val_accuracy: 0.8344\n",
            "epoch 88\n",
            "44/44 [==============================] - 1s 13ms/step - loss: 0.0122 - accuracy: 0.9960 - val_loss: 1.0965 - val_accuracy: 0.8084\n",
            "epoch 89\n",
            "44/44 [==============================] - 1s 14ms/step - loss: 0.0090 - accuracy: 0.9978 - val_loss: 1.0558 - val_accuracy: 0.8279\n",
            "epoch 90\n",
            "44/44 [==============================] - 1s 11ms/step - loss: 0.0068 - accuracy: 0.9986 - val_loss: 1.0527 - val_accuracy: 0.8279\n",
            "epoch 91\n",
            "44/44 [==============================] - 0s 11ms/step - loss: 0.0071 - accuracy: 0.9982 - val_loss: 1.0460 - val_accuracy: 0.8377\n",
            "epoch 92\n",
            "44/44 [==============================] - 0s 11ms/step - loss: 0.0067 - accuracy: 0.9982 - val_loss: 1.0427 - val_accuracy: 0.8312\n",
            "epoch 93\n",
            "44/44 [==============================] - 0s 10ms/step - loss: 0.0048 - accuracy: 0.9989 - val_loss: 1.0656 - val_accuracy: 0.8344\n",
            "epoch 94\n",
            "44/44 [==============================] - 0s 11ms/step - loss: 0.0043 - accuracy: 0.9993 - val_loss: 1.0982 - val_accuracy: 0.8214\n",
            "epoch 95\n",
            "44/44 [==============================] - 0s 11ms/step - loss: 0.0065 - accuracy: 0.9975 - val_loss: 1.1087 - val_accuracy: 0.8279\n",
            "epoch 96\n",
            "44/44 [==============================] - 0s 11ms/step - loss: 0.0061 - accuracy: 0.9975 - val_loss: 1.1124 - val_accuracy: 0.8214\n",
            "epoch 97\n",
            "44/44 [==============================] - 1s 11ms/step - loss: 0.0077 - accuracy: 0.9982 - val_loss: 1.0730 - val_accuracy: 0.8377\n",
            "epoch 98\n",
            "44/44 [==============================] - 0s 11ms/step - loss: 0.0044 - accuracy: 0.9993 - val_loss: 1.0922 - val_accuracy: 0.8442\n",
            "epoch 99\n",
            "44/44 [==============================] - 0s 11ms/step - loss: 0.0038 - accuracy: 0.9986 - val_loss: 1.1236 - val_accuracy: 0.8279\n",
            "epoch 100\n",
            "44/44 [==============================] - 0s 11ms/step - loss: 0.0050 - accuracy: 0.9989 - val_loss: 1.1140 - val_accuracy: 0.8312\n",
            "epoch 101\n",
            "44/44 [==============================] - 1s 12ms/step - loss: 0.0037 - accuracy: 0.9989 - val_loss: 1.0852 - val_accuracy: 0.8377\n",
            "epoch 102\n",
            "44/44 [==============================] - 0s 11ms/step - loss: 0.0054 - accuracy: 0.9989 - val_loss: 1.1486 - val_accuracy: 0.8409\n",
            "epoch 103\n",
            "44/44 [==============================] - 1s 12ms/step - loss: 0.0047 - accuracy: 0.9993 - val_loss: 1.1215 - val_accuracy: 0.8344\n",
            "epoch 104\n",
            "44/44 [==============================] - 1s 16ms/step - loss: 0.0243 - accuracy: 0.9917 - val_loss: 1.3328 - val_accuracy: 0.7987\n",
            "epoch 105\n",
            "44/44 [==============================] - 1s 17ms/step - loss: 0.0677 - accuracy: 0.9794 - val_loss: 1.1753 - val_accuracy: 0.8279\n",
            "epoch 106\n",
            "44/44 [==============================] - 1s 15ms/step - loss: 0.0139 - accuracy: 0.9953 - val_loss: 1.1305 - val_accuracy: 0.8312\n",
            "epoch 107\n",
            "44/44 [==============================] - 1s 12ms/step - loss: 0.0052 - accuracy: 0.9993 - val_loss: 1.0930 - val_accuracy: 0.8279\n",
            "epoch 108\n",
            "44/44 [==============================] - 0s 10ms/step - loss: 0.0037 - accuracy: 0.9996 - val_loss: 1.1213 - val_accuracy: 0.8247\n",
            "epoch 109\n",
            "44/44 [==============================] - 0s 10ms/step - loss: 0.0032 - accuracy: 0.9993 - val_loss: 1.1079 - val_accuracy: 0.8312\n",
            "epoch 110\n",
            "44/44 [==============================] - 0s 10ms/step - loss: 0.0029 - accuracy: 0.9996 - val_loss: 1.1185 - val_accuracy: 0.8279\n"
          ]
        }
      ],
      "source": [
        "epoch = 0\n",
        "for epoch in range(epoch_save+1, 111): #change 100 to a larger number if necessary\n",
        "    print('epoch', epoch)\n",
        "    #set epochs=1\n",
        "    history=model.fit(X_train, Y_train, batch_size=64, epochs=1, validation_data=(X_val, Y_val))\n",
        "    loss_train_list.extend(history.history['loss'])\n",
        "    loss_val_list.extend(history.history['val_loss'])\n",
        "    acc_train_list.extend(history.history['accuracy'])\n",
        "    acc_val_list.extend(history.history['val_accuracy'])\n",
        "    #save the model to a a HDF5 file \n",
        "    model.save('ECG_Keras_sCE_e'+str(epoch)+'.h5')"
      ]
    },
    {
      "cell_type": "markdown",
      "metadata": {
        "id": "FBSDSgFfOZjT"
      },
      "source": [
        "### Plot training loss vs epoch and validation loss vs epoch"
      ]
    },
    {
      "cell_type": "code",
      "execution_count": 56,
      "metadata": {
        "colab": {
          "base_uri": "https://localhost:8080/"
        },
        "id": "-KRkqHpuOZjT",
        "outputId": "d87263a3-6319-4b34-e07c-20dd994c71d1"
      },
      "outputs": [
        {
          "output_type": "execute_result",
          "data": {
            "text/plain": [
              "dict_keys(['loss', 'accuracy', 'val_loss', 'val_accuracy'])"
            ]
          },
          "metadata": {},
          "execution_count": 56
        }
      ],
      "source": [
        "history.history.keys()"
      ]
    },
    {
      "cell_type": "code",
      "execution_count": 57,
      "metadata": {
        "colab": {
          "base_uri": "https://localhost:8080/",
          "height": 393
        },
        "id": "xsc9XDhROZjT",
        "outputId": "f7d00d0d-9569-4cd7-84aa-098574357d8b"
      },
      "outputs": [
        {
          "output_type": "display_data",
          "data": {
            "text/plain": [
              "<Figure size 864x432 with 2 Axes>"
            ],
            "image/png": "[encoded data removed]"
          },
          "metadata": {
            "needs_background": "light"
          }
        }
      ],
      "source": [
        "fig, ax = plt.subplots(1, 2, figsize=(12,6))\n",
        "ax[0].plot(np.arange(0,len(loss_train_list)), loss_train_list, '-b', label='training loss')\n",
        "ax[0].plot(np.arange(0,len(loss_val_list)), loss_val_list, '-r', label='validation loss')\n",
        "ax[0].set_xlabel('epoch',fontsize=16)\n",
        "ax[0].legend(fontsize=16)\n",
        "ax[0].grid(True)\n",
        "ax[1].plot(np.arange(0,len(acc_train_list)), acc_train_list, '-b', label='training accuracy')\n",
        "ax[1].plot(np.arange(0,len(acc_val_list)), acc_val_list, '-r', label='validation accuracy')\n",
        "ax[1].set_xlabel('epoch',fontsize=16)\n",
        "ax[1].legend(fontsize=16)\n",
        "ax[1].grid(True)"
      ]
    },
    {
      "cell_type": "markdown",
      "metadata": {
        "id": "tRXmqXsiOZjU"
      },
      "source": [
        "### Test the model"
      ]
    },
    {
      "cell_type": "code",
      "execution_count": 58,
      "metadata": {
        "colab": {
          "base_uri": "https://localhost:8080/"
        },
        "id": "_R3FxdyLt-Rd",
        "outputId": "0c11ea53-2990-4c7a-f848-c5a862ea4411"
      },
      "outputs": [
        {
          "output_type": "execute_result",
          "data": {
            "text/plain": [
              "33"
            ]
          },
          "metadata": {},
          "execution_count": 58
        }
      ],
      "source": [
        "#load the best model\n",
        "best_epoch=np.argmax(acc_val_list)\n",
        "best_epoch"
      ]
    },
    {
      "cell_type": "code",
      "execution_count": 59,
      "metadata": {
        "id": "GMUgAglLuP1l"
      },
      "outputs": [],
      "source": [
        "import tensorflow\n",
        "model = tensorflow.keras.models.load_model(\"ECG_Keras_sCE_e\"+str(best_epoch)+\".h5\")"
      ]
    },
    {
      "cell_type": "code",
      "execution_count": 60,
      "metadata": {
        "colab": {
          "base_uri": "https://localhost:8080/"
        },
        "id": "kvtKs2SOOZjU",
        "outputId": "237d5691-763c-49b8-d23f-9828567682a5"
      },
      "outputs": [
        {
          "output_type": "stream",
          "name": "stdout",
          "text": [
            "Test loss: 0.46806207299232483\n",
            "Test accuracy: 0.868660569190979\n"
          ]
        }
      ],
      "source": [
        "score = model.evaluate(X_test, Y_test, batch_size=64, verbose=0)\n",
        "print('Test loss:', score[0])\n",
        "print('Test accuracy:', score[1])"
      ]
    },
    {
      "cell_type": "markdown",
      "metadata": {
        "id": "XJOCI3OhOZjU"
      },
      "source": [
        "### Make Prediction on the test set"
      ]
    },
    {
      "cell_type": "code",
      "execution_count": 61,
      "metadata": {
        "colab": {
          "base_uri": "https://localhost:8080/"
        },
        "id": "RZUvb8pVOZjU",
        "outputId": "bb696d2e-6faa-410f-87eb-6872a66604ec"
      },
      "outputs": [
        {
          "output_type": "stream",
          "name": "stdout",
          "text": [
            "13/13 [==============================] - 0s 5ms/step\n"
          ]
        }
      ],
      "source": [
        "Y_test_pred=model.predict(X_test, batch_size=64)"
      ]
    },
    {
      "cell_type": "code",
      "execution_count": 62,
      "metadata": {
        "colab": {
          "base_uri": "https://localhost:8080/"
        },
        "id": "zvgO9El9QfrW",
        "outputId": "adb9bdfc-6255-4d2e-f007-a3233ef0230e"
      },
      "outputs": [
        {
          "output_type": "execute_result",
          "data": {
            "text/plain": [
              "array([4.7674945e-05, 9.9992424e-01, 4.4152389e-06, 1.3405490e-07,\n",
              "       1.2972555e-07, 1.2972555e-07, 1.2972555e-07, 1.2972555e-07,\n",
              "       1.2972555e-07, 1.2972555e-07, 1.2972555e-07, 1.2972555e-07,\n",
              "       1.2972555e-07, 1.2972555e-07, 1.2972555e-07, 1.2972555e-07,\n",
              "       1.2972555e-07, 1.2972555e-07, 1.2972555e-07, 1.2972555e-07,\n",
              "       1.2972555e-07, 1.2972555e-07, 1.2972555e-07, 1.2972555e-07,\n",
              "       1.2972555e-07, 1.2972555e-07, 1.2972555e-07, 1.2972555e-07,\n",
              "       1.2972555e-07, 1.2972555e-07, 1.2972555e-07, 1.7185599e-07,\n",
              "       1.2972555e-07, 1.2972555e-07, 1.2972555e-07, 1.2972555e-07,\n",
              "       1.2972555e-07, 1.2972555e-07, 1.2972555e-07, 1.2972555e-07,\n",
              "       1.2972555e-07, 1.2972555e-07, 1.2972555e-07, 1.2972555e-07,\n",
              "       1.2972555e-07, 1.2972555e-07, 1.2972555e-07, 1.2972555e-07,\n",
              "       1.2972555e-07, 1.2972555e-07, 1.2972555e-07, 1.2972555e-07,\n",
              "       1.2972555e-07, 1.2972555e-07, 1.2972555e-07, 1.2972555e-07,\n",
              "       1.2972555e-07, 1.2972555e-07, 1.2972555e-07, 1.2972555e-07,\n",
              "       1.2972555e-07, 1.2972555e-07, 1.2972555e-07, 1.2972555e-07,\n",
              "       1.2972555e-07, 1.2972555e-07, 1.2972555e-07, 1.2972555e-07,\n",
              "       1.2972555e-07, 1.2972555e-07, 1.2972555e-07, 1.2972555e-07,\n",
              "       1.2972555e-07, 1.2972555e-07, 1.2972555e-07, 1.2972555e-07,\n",
              "       1.2972555e-07, 1.2972555e-07, 1.2972555e-07, 1.2972555e-07,\n",
              "       1.2972555e-07, 1.2972555e-07, 1.2972555e-07, 1.2972555e-07,\n",
              "       1.2972555e-07, 1.2972555e-07, 1.2972555e-07, 1.2972555e-07,\n",
              "       1.2972555e-07, 1.2972555e-07, 1.2972555e-07, 1.2972555e-07,\n",
              "       1.2972555e-07, 1.2972555e-07, 1.2972555e-07, 1.2972555e-07,\n",
              "       1.2972555e-07, 1.2972555e-07, 1.2972555e-07, 1.2972555e-07,\n",
              "       1.2972555e-07, 1.2972555e-07, 1.2972555e-07, 1.2972555e-07,\n",
              "       1.2972555e-07, 1.2972555e-07, 1.2972555e-07, 1.2972555e-07,\n",
              "       1.2972555e-07, 1.2972555e-07, 1.2972555e-07, 1.2972555e-07,\n",
              "       1.2972555e-07, 1.2972555e-07, 1.2972555e-07, 1.2972555e-07,\n",
              "       1.2972555e-07, 1.2972555e-07, 1.2972555e-07, 1.2972555e-07,\n",
              "       1.2972555e-07, 1.2972555e-07, 1.2972555e-07, 1.2972555e-07,\n",
              "       1.2972555e-07, 1.2972555e-07, 1.2972555e-07, 1.2972555e-07,\n",
              "       1.2972555e-07, 1.2972555e-07, 1.2972555e-07, 1.2972555e-07,\n",
              "       1.2972555e-07, 1.2972555e-07, 1.2972555e-07, 1.2972555e-07,\n",
              "       1.2972555e-07, 1.2972555e-07, 1.2972555e-07, 1.2972555e-07,\n",
              "       1.2972555e-07, 1.2972555e-07, 1.2972555e-07, 1.2972555e-07,\n",
              "       1.4478461e-07, 1.2972555e-07, 1.2972555e-07, 1.2972555e-07,\n",
              "       1.2972555e-07, 1.2972555e-07, 1.2972555e-07, 1.2972555e-07,\n",
              "       1.2972555e-07, 1.2972555e-07, 1.2972555e-07, 1.2972555e-07,\n",
              "       1.2972555e-07, 1.2972555e-07, 1.2972555e-07, 1.2972555e-07,\n",
              "       1.2972555e-07, 1.2972555e-07, 1.2972555e-07, 1.2972555e-07,\n",
              "       1.2972555e-07, 1.2972555e-07, 1.2972555e-07, 1.2972555e-07,\n",
              "       1.2972555e-07, 1.2972555e-07, 1.2972555e-07, 1.2972555e-07,\n",
              "       1.2972555e-07, 1.2972555e-07, 1.2972555e-07, 1.2972555e-07,\n",
              "       1.2972555e-07, 1.2972555e-07, 1.2972555e-07, 1.2972555e-07,\n",
              "       1.2972555e-07, 1.2972555e-07, 1.2972555e-07, 1.2972555e-07,\n",
              "       1.2972555e-07, 1.2972555e-07, 1.2972555e-07], dtype=float32)"
            ]
          },
          "metadata": {},
          "execution_count": 62
        }
      ],
      "source": [
        "Y_test_pred[0]"
      ]
    },
    {
      "cell_type": "code",
      "execution_count": 63,
      "metadata": {
        "colab": {
          "base_uri": "https://localhost:8080/"
        },
        "id": "_epAiYquOZjV",
        "outputId": "8a069ac1-b5ef-4efc-e329-77ba41bbc29e"
      },
      "outputs": [
        {
          "output_type": "execute_result",
          "data": {
            "text/plain": [
              "1"
            ]
          },
          "metadata": {},
          "execution_count": 63
        }
      ],
      "source": [
        "np.argmax(Y_test_pred[0])"
      ]
    },
    {
      "cell_type": "code",
      "execution_count": 64,
      "metadata": {
        "colab": {
          "base_uri": "https://localhost:8080/"
        },
        "id": "Gb6ZtDyDOZjV",
        "outputId": "f409273c-691e-4140-b166-ea45cbba6f8d"
      },
      "outputs": [
        {
          "output_type": "execute_result",
          "data": {
            "text/plain": [
              "1"
            ]
          },
          "metadata": {},
          "execution_count": 64
        }
      ],
      "source": [
        "Y_test[0]"
      ]
    },
    {
      "cell_type": "code",
      "execution_count": 65,
      "metadata": {
        "id": "MAt-AFp1wKhU"
      },
      "outputs": [],
      "source": [
        "Y_test_pred=np.argmax(Y_test_pred, axis=1)"
      ]
    },
    {
      "cell_type": "code",
      "execution_count": 66,
      "metadata": {
        "colab": {
          "base_uri": "https://localhost:8080/"
        },
        "id": "ql1Ui3ekv92b",
        "outputId": "25a76b74-1749-4b3a-bf71-633a456c75c7"
      },
      "outputs": [
        {
          "output_type": "stream",
          "name": "stdout",
          "text": [
            "              precision    recall  f1-score   support\n",
            "\n",
            "           0       0.80      0.81      0.80       176\n",
            "           1       0.86      0.85      0.85       154\n",
            "           2       0.87      0.88      0.87       146\n",
            "           3       0.89      0.90      0.89       122\n",
            "           4       0.94      0.92      0.93       171\n",
            "\n",
            "    accuracy                           0.87       769\n",
            "   macro avg       0.87      0.87      0.87       769\n",
            "weighted avg       0.87      0.87      0.87       769\n",
            "\n"
          ]
        }
      ],
      "source": [
        "from sklearn.metrics import classification_report\n",
        "print(classification_report(Y_test, Y_test_pred))"
      ]
    }
  ],
  "metadata": {
    "colab": {
      "provenance": []
    },
    "kernelspec": {
      "display_name": "Python 3 (ipykernel)",
      "language": "python",
      "name": "python3"
    },
    "language_info": {
      "codemirror_mode": {
        "name": "ipython",
        "version": 3
      },
      "file_extension": ".py",
      "mimetype": "text/x-python",
      "name": "python",
      "nbconvert_exporter": "python",
      "pygments_lexer": "ipython3",
      "version": "3.10.4"
    }
  },
  "nbformat": 4,
  "nbformat_minor": 0
}