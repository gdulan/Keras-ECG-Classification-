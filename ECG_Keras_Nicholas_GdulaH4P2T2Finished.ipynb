{
  "cells": [
    {
      "cell_type": "markdown",
      "metadata": {
        "id": "1MTl4yEAS2Lp"
      },
      "source": [
        "### Build an CNN for ECG Signal Classification (5 classes)  - Keras"
      ]
    },
    {
      "cell_type": "code",
      "execution_count": 31,
      "metadata": {
        "id": "SOxMxEdsS-Au"
      },
      "outputs": [],
      "source": [
        "from tensorflow.keras.models import Sequential\n",
        "from tensorflow.keras.layers import Dense\n",
        "from tensorflow.keras.optimizers import Adamax\n",
        "import matplotlib.pyplot as plt\n",
        "from IPython import display\n",
        "import numpy as np\n",
        "import pandas as pd"
      ]
    },
    {
      "cell_type": "code",
      "source": [
        "from google.colab import files\n",
        "\n",
        "uploaded = files.upload()"
      ],
      "metadata": {
        "colab": {
          "base_uri": "https://localhost:8080/",
          "height": 109
        },
        "id": "3IoyrGfv9VEr",
        "outputId": "8b9c56ae-143d-4108-bba1-904dc0570319"
      },
      "execution_count": 32,
      "outputs": [
        {
          "output_type": "display_data",
          "data": {
            "text/plain": [
              "<IPython.core.display.HTML object>"
            ],
            "text/html": [
              "\n",
              "     <input type=\"file\" id=\"files-fd59edcd-319e-4be6-bdb8-d3dcaaec9892\" name=\"files[]\" multiple disabled\n",
              "        style=\"border:none\" />\n",
              "     <output id=\"result-fd59edcd-319e-4be6-bdb8-d3dcaaec9892\">\n",
              "      Upload widget is only available when the cell has been executed in the\n",
              "      current browser session. Please rerun this cell to enable.\n",
              "      </output>\n",
              "      <script>// Copyright 2017 Google LLC\n",
              "//\n",
              "// Licensed under the Apache License, Version 2.0 (the \"License\");\n",
              "// you may not use this file except in compliance with the License.\n",
              "// You may obtain a copy of the License at\n",
              "//\n",
              "//      http://www.apache.org/licenses/LICENSE-2.0\n",
              "//\n",
              "// Unless required by applicable law or agreed to in writing, software\n",
              "// distributed under the License is distributed on an \"AS IS\" BASIS,\n",
              "// WITHOUT WARRANTIES OR CONDITIONS OF ANY KIND, either express or implied.\n",
              "// See the License for the specific language governing permissions and\n",
              "// limitations under the License.\n",
              "\n",
              "/**\n",
              " * @fileoverview Helpers for google.colab Python module.\n",
              " */\n",
              "(function(scope) {\n",
              "function span(text, styleAttributes = {}) {\n",
              "  const element = document.createElement('span');\n",
              "  element.textContent = text;\n",
              "  for (const key of Object.keys(styleAttributes)) {\n",
              "    element.style[key] = styleAttributes[key];\n",
              "  }\n",
              "  return element;\n",
              "}\n",
              "\n",
              "// Max number of bytes which will be uploaded at a time.\n",
              "const MAX_PAYLOAD_SIZE = 100 * 1024;\n",
              "\n",
              "function _uploadFiles(inputId, outputId) {\n",
              "  const steps = uploadFilesStep(inputId, outputId);\n",
              "  const outputElement = document.getElementById(outputId);\n",
              "  // Cache steps on the outputElement to make it available for the next call\n",
              "  // to uploadFilesContinue from Python.\n",
              "  outputElement.steps = steps;\n",
              "\n",
              "  return _uploadFilesContinue(outputId);\n",
              "}\n",
              "\n",
              "// This is roughly an async generator (not supported in the browser yet),\n",
              "// where there are multiple asynchronous steps and the Python side is going\n",
              "// to poll for completion of each step.\n",
              "// This uses a Promise to block the python side on completion of each step,\n",
              "// then passes the result of the previous step as the input to the next step.\n",
              "function _uploadFilesContinue(outputId) {\n",
              "  const outputElement = document.getElementById(outputId);\n",
              "  const steps = outputElement.steps;\n",
              "\n",
              "  const next = steps.next(outputElement.lastPromiseValue);\n",
              "  return Promise.resolve(next.value.promise).then((value) => {\n",
              "    // Cache the last promise value to make it available to the next\n",
              "    // step of the generator.\n",
              "    outputElement.lastPromiseValue = value;\n",
              "    return next.value.response;\n",
              "  });\n",
              "}\n",
              "\n",
              "/**\n",
              " * Generator function which is called between each async step of the upload\n",
              " * process.\n",
              " * @param {string} inputId Element ID of the input file picker element.\n",
              " * @param {string} outputId Element ID of the output display.\n",
              " * @return {!Iterable<!Object>} Iterable of next steps.\n",
              " */\n",
              "function* uploadFilesStep(inputId, outputId) {\n",
              "  const inputElement = document.getElementById(inputId);\n",
              "  inputElement.disabled = false;\n",
              "\n",
              "  const outputElement = document.getElementById(outputId);\n",
              "  outputElement.innerHTML = '';\n",
              "\n",
              "  const pickedPromise = new Promise((resolve) => {\n",
              "    inputElement.addEventListener('change', (e) => {\n",
              "      resolve(e.target.files);\n",
              "    });\n",
              "  });\n",
              "\n",
              "  const cancel = document.createElement('button');\n",
              "  inputElement.parentElement.appendChild(cancel);\n",
              "  cancel.textContent = 'Cancel upload';\n",
              "  const cancelPromise = new Promise((resolve) => {\n",
              "    cancel.onclick = () => {\n",
              "      resolve(null);\n",
              "    };\n",
              "  });\n",
              "\n",
              "  // Wait for the user to pick the files.\n",
              "  const files = yield {\n",
              "    promise: Promise.race([pickedPromise, cancelPromise]),\n",
              "    response: {\n",
              "      action: 'starting',\n",
              "    }\n",
              "  };\n",
              "\n",
              "  cancel.remove();\n",
              "\n",
              "  // Disable the input element since further picks are not allowed.\n",
              "  inputElement.disabled = true;\n",
              "\n",
              "  if (!files) {\n",
              "    return {\n",
              "      response: {\n",
              "        action: 'complete',\n",
              "      }\n",
              "    };\n",
              "  }\n",
              "\n",
              "  for (const file of files) {\n",
              "    const li = document.createElement('li');\n",
              "    li.append(span(file.name, {fontWeight: 'bold'}));\n",
              "    li.append(span(\n",
              "        `(${file.type || 'n/a'}) - ${file.size} bytes, ` +\n",
              "        `last modified: ${\n",
              "            file.lastModifiedDate ? file.lastModifiedDate.toLocaleDateString() :\n",
              "                                    'n/a'} - `));\n",
              "    const percent = span('0% done');\n",
              "    li.appendChild(percent);\n",
              "\n",
              "    outputElement.appendChild(li);\n",
              "\n",
              "    const fileDataPromise = new Promise((resolve) => {\n",
              "      const reader = new FileReader();\n",
              "      reader.onload = (e) => {\n",
              "        resolve(e.target.result);\n",
              "      };\n",
              "      reader.readAsArrayBuffer(file);\n",
              "    });\n",
              "    // Wait for the data to be ready.\n",
              "    let fileData = yield {\n",
              "      promise: fileDataPromise,\n",
              "      response: {\n",
              "        action: 'continue',\n",
              "      }\n",
              "    };\n",
              "\n",
              "    // Use a chunked sending to avoid message size limits. See b/62115660.\n",
              "    let position = 0;\n",
              "    do {\n",
              "      const length = Math.min(fileData.byteLength - position, MAX_PAYLOAD_SIZE);\n",
              "      const chunk = new Uint8Array(fileData, position, length);\n",
              "      position += length;\n",
              "\n",
              "      const base64 = btoa(String.fromCharCode.apply(null, chunk));\n",
              "      yield {\n",
              "        response: {\n",
              "          action: 'append',\n",
              "          file: file.name,\n",
              "          data: base64,\n",
              "        },\n",
              "      };\n",
              "\n",
              "      let percentDone = fileData.byteLength === 0 ?\n",
              "          100 :\n",
              "          Math.round((position / fileData.byteLength) * 100);\n",
              "      percent.textContent = `${percentDone}% done`;\n",
              "\n",
              "    } while (position < fileData.byteLength);\n",
              "  }\n",
              "\n",
              "  // All done.\n",
              "  yield {\n",
              "    response: {\n",
              "      action: 'complete',\n",
              "    }\n",
              "  };\n",
              "}\n",
              "\n",
              "scope.google = scope.google || {};\n",
              "scope.google.colab = scope.google.colab || {};\n",
              "scope.google.colab._files = {\n",
              "  _uploadFiles,\n",
              "  _uploadFilesContinue,\n",
              "};\n",
              "})(self);\n",
              "</script> "
            ]
          },
          "metadata": {}
        },
        {
          "output_type": "stream",
          "name": "stdout",
          "text": [
            "Saving ECG_dataX.csv to ECG_dataX (1).csv\n",
            "Saving ECG_dataY.csv to ECG_dataY (1).csv\n"
          ]
        }
      ]
    },
    {
      "cell_type": "markdown",
      "metadata": {
        "id": "kQOrBDYmOZjK"
      },
      "source": [
        "### Load the data"
      ]
    },
    {
      "cell_type": "code",
      "execution_count": 33,
      "metadata": {
        "id": "RsFnMl7ROZjK"
      },
      "outputs": [],
      "source": [
        "X=pd.read_csv('ECG_dataX.csv')\n",
        "Y=pd.read_csv('ECG_dataY.csv')"
      ]
    },
    {
      "cell_type": "code",
      "execution_count": 34,
      "metadata": {
        "colab": {
          "base_uri": "https://localhost:8080/"
        },
        "id": "6t4WUhbDOZjL",
        "outputId": "8fda91a2-bf07-4d46-e94f-0fa486da2fe5"
      },
      "outputs": [
        {
          "output_type": "execute_result",
          "data": {
            "text/plain": [
              "(3841, 187)"
            ]
          },
          "metadata": {},
          "execution_count": 34
        }
      ],
      "source": [
        "#convert dataframe to numpy array\n",
        "X=X.values\n",
        "X.shape"
      ]
    },
    {
      "cell_type": "code",
      "execution_count": 35,
      "metadata": {
        "colab": {
          "base_uri": "https://localhost:8080/"
        },
        "id": "VwmqQyBZOZjM",
        "outputId": "90c0ec21-7408-4177-b086-a6eefbf52c4e"
      },
      "outputs": [
        {
          "output_type": "execute_result",
          "data": {
            "text/plain": [
              "(3841, 1)"
            ]
          },
          "metadata": {},
          "execution_count": 35
        }
      ],
      "source": [
        "#convert dataframe to numpy array\n",
        "Y=Y.values\n",
        "Y.shape"
      ]
    },
    {
      "cell_type": "code",
      "execution_count": 36,
      "metadata": {
        "colab": {
          "base_uri": "https://localhost:8080/"
        },
        "id": "9P_7x-_oOZjM",
        "outputId": "2031d95a-bebd-4fc7-9ac9-7a7e269f5c5d"
      },
      "outputs": [
        {
          "output_type": "execute_result",
          "data": {
            "text/plain": [
              "(3841,)"
            ]
          },
          "metadata": {},
          "execution_count": 36
        }
      ],
      "source": [
        "#reshape Y into a 1D array\n",
        "Y=Y.reshape(-1)\n",
        "Y.shape"
      ]
    },
    {
      "cell_type": "code",
      "execution_count": 37,
      "metadata": {
        "colab": {
          "base_uri": "https://localhost:8080/",
          "height": 319
        },
        "id": "wYaJ9_X3QDPI",
        "outputId": "ec631205-fb21-46f1-b9d9-d873845e7811"
      },
      "outputs": [
        {
          "output_type": "execute_result",
          "data": {
            "text/plain": [
              "(array([800.,   0., 800.,   0.,   0., 800.,   0., 641.,   0., 800.]),\n",
              " array([0. , 0.4, 0.8, 1.2, 1.6, 2. , 2.4, 2.8, 3.2, 3.6, 4. ]),\n",
              " <a list of 10 Patch objects>)"
            ]
          },
          "metadata": {},
          "execution_count": 37
        },
        {
          "output_type": "display_data",
          "data": {
            "text/plain": [
              "<Figure size 432x288 with 1 Axes>"
            ],
            "image/png": "[encoded data removed]"
          },
          "metadata": {
            "needs_background": "light"
          }
        }
      ],
      "source": [
        "plt.hist(Y)"
      ]
    },
    {
      "cell_type": "code",
      "execution_count": 38,
      "metadata": {
        "id": "pLlBWI0ROzNo"
      },
      "outputs": [],
      "source": [
        "fs=125  # sampling frequency\n",
        "Ts=1/fs # sampling interval\n",
        "N=187 # the number of timepoints\n",
        "Duration=N*Ts # duration of a signal\n",
        "t=np.linspace(0, Duration-Ts, N) # array of timepoints"
      ]
    },
    {
      "cell_type": "code",
      "execution_count": 40,
      "metadata": {
        "colab": {
          "base_uri": "https://localhost:8080/",
          "height": 745
        },
        "id": "sXzrl7-PO00f",
        "outputId": "43b4f5a7-d4da-4bd8-c08c-17865e4ffb03"
      },
      "outputs": [
        {
          "output_type": "display_data",
          "data": {
            "text/plain": [
              "<Figure size 720x720 with 5 Axes>"
            ],
            "image/png": "[encoded data removed]"
          },
          "metadata": {
            "needs_background": "light"
          }
        }
      ],
      "source": [
        "fig, ax = plt.subplots(5,1,constrained_layout=True, figsize=(10,10))\n",
        "for c in range(0, 5):   \n",
        "    for n in range(0, 3):\n",
        "        idx=np.random.randint(0,10)\n",
        "        ax[c].plot(t, X[Y==c][idx])        \n",
        "        ax[c].set_xlabel('time t [seconds]', fontsize=16)\n",
        "        ax[c].set_ylabel('amplitude', fontsize=16)\n",
        "    ax[c].set_title('class '+str(c), fontsize=16)"
      ]
    },
    {
      "cell_type": "code",
      "execution_count": 41,
      "metadata": {
        "id": "qD6ckUN0OZjO"
      },
      "outputs": [],
      "source": [
        "from sklearn.model_selection import train_test_split\n",
        "X_train, X_test, Y_train, Y_test = train_test_split(X, Y, test_size=0.2, random_state=0)\n",
        "X_train, X_val, Y_train, Y_val = train_test_split(X_train, Y_train, test_size=0.1, random_state=0)\n",
        "#note: add a channel axis to the data if the network is CNN: see the examples presented in class"
      ]
    },
    {
      "cell_type": "code",
      "execution_count": 42,
      "metadata": {
        "colab": {
          "base_uri": "https://localhost:8080/"
        },
        "id": "Y2hYRxor8--E",
        "outputId": "2e7de010-a446-4965-ab32-8d02ea9ac2ba"
      },
      "outputs": [
        {
          "output_type": "execute_result",
          "data": {
            "text/plain": [
              "(2764, 187)"
            ]
          },
          "metadata": {},
          "execution_count": 42
        }
      ],
      "source": [
        "X_train.shape"
      ]
    },
    {
      "cell_type": "code",
      "execution_count": 43,
      "metadata": {
        "id": "A7xmAMWg8--F"
      },
      "outputs": [],
      "source": [
        "X_train=X_train.reshape(X_train.shape[0], X_train.shape[1],1)\n",
        "X_val=X_val.reshape(X_val.shape[0], X_val.shape[1],1)\n",
        "X_test=X_test.reshape(X_test.shape[0], X_test.shape[1],1)"
      ]
    },
    {
      "cell_type": "code",
      "execution_count": 44,
      "metadata": {
        "colab": {
          "base_uri": "https://localhost:8080/"
        },
        "id": "TNZmfo6c8--F",
        "outputId": "f74fa5dc-7c87-40c6-eb45-6c335cdb2c53"
      },
      "outputs": [
        {
          "output_type": "execute_result",
          "data": {
            "text/plain": [
              "(2764, 187, 1)"
            ]
          },
          "metadata": {},
          "execution_count": 44
        }
      ],
      "source": [
        "X_train.shape"
      ]
    },
    {
      "cell_type": "markdown",
      "metadata": {
        "id": "zyH0UvuMOZjR"
      },
      "source": [
        "### CNN model"
      ]
    },
    {
      "cell_type": "code",
      "execution_count": 46,
      "metadata": {
        "colab": {
          "base_uri": "https://localhost:8080/"
        },
        "id": "QTdhdBsfOZjR",
        "outputId": "88e1938a-1042-421b-b50c-61e4e0786775"
      },
      "outputs": [
        {
          "output_type": "stream",
          "name": "stdout",
          "text": [
            "Model: \"model_2\"\n",
            "__________________________________________________________________________________________________\n",
            " Layer (type)                   Output Shape         Param #     Connected to                     \n",
            "==================================================================================================\n",
            " input_3 (InputLayer)           [(None, 187, 1)]     0           []                               \n",
            "                                                                                                  \n",
            " conv1d_10 (Conv1D)             (None, 92, 32)       192         ['input_3[0][0]']                \n",
            "                                                                                                  \n",
            " activation_12 (Activation)     (None, 92, 32)       0           ['conv1d_10[0][0]']              \n",
            "                                                                                                  \n",
            " conv1d_11 (Conv1D)             (None, 46, 32)       2080        ['activation_12[0][0]']          \n",
            "                                                                                                  \n",
            " activation_13 (Activation)     (None, 46, 32)       0           ['conv1d_11[0][0]']              \n",
            "                                                                                                  \n",
            " average_pooling1d_6 (AveragePo  (None, 46, 32)      0           ['activation_12[0][0]']          \n",
            " oling1D)                                                                                         \n",
            "                                                                                                  \n",
            " add_6 (Add)                    (None, 46, 32)       0           ['activation_13[0][0]',          \n",
            "                                                                  'average_pooling1d_6[0][0]']    \n",
            "                                                                                                  \n",
            " batch_normalization_6 (BatchNo  (None, 46, 32)      128         ['add_6[0][0]']                  \n",
            " rmalization)                                                                                     \n",
            "                                                                                                  \n",
            " conv1d_12 (Conv1D)             (None, 23, 32)       2080        ['batch_normalization_6[0][0]']  \n",
            "                                                                                                  \n",
            " activation_14 (Activation)     (None, 23, 32)       0           ['conv1d_12[0][0]']              \n",
            "                                                                                                  \n",
            " average_pooling1d_7 (AveragePo  (None, 23, 32)      0           ['add_6[0][0]']                  \n",
            " oling1D)                                                                                         \n",
            "                                                                                                  \n",
            " add_7 (Add)                    (None, 23, 32)       0           ['activation_14[0][0]',          \n",
            "                                                                  'average_pooling1d_7[0][0]']    \n",
            "                                                                                                  \n",
            " batch_normalization_7 (BatchNo  (None, 23, 32)      128         ['add_7[0][0]']                  \n",
            " rmalization)                                                                                     \n",
            "                                                                                                  \n",
            " conv1d_13 (Conv1D)             (None, 11, 32)       2080        ['batch_normalization_7[0][0]']  \n",
            "                                                                                                  \n",
            " activation_15 (Activation)     (None, 11, 32)       0           ['conv1d_13[0][0]']              \n",
            "                                                                                                  \n",
            " average_pooling1d_8 (AveragePo  (None, 11, 32)      0           ['add_7[0][0]']                  \n",
            " oling1D)                                                                                         \n",
            "                                                                                                  \n",
            " add_8 (Add)                    (None, 11, 32)       0           ['activation_15[0][0]',          \n",
            "                                                                  'average_pooling1d_8[0][0]']    \n",
            "                                                                                                  \n",
            " batch_normalization_8 (BatchNo  (None, 11, 32)      128         ['add_8[0][0]']                  \n",
            " rmalization)                                                                                     \n",
            "                                                                                                  \n",
            " conv1d_14 (Conv1D)             (None, 5, 32)        2080        ['batch_normalization_8[0][0]']  \n",
            "                                                                                                  \n",
            " activation_16 (Activation)     (None, 5, 32)        0           ['conv1d_14[0][0]']              \n",
            "                                                                                                  \n",
            " flatten_2 (Flatten)            (None, 160)          0           ['activation_16[0][0]']          \n",
            "                                                                                                  \n",
            " dense_4 (Dense)                (None, 32)           5152        ['flatten_2[0][0]']              \n",
            "                                                                                                  \n",
            " activation_17 (Activation)     (None, 32)           0           ['dense_4[0][0]']                \n",
            "                                                                                                  \n",
            " dense_5 (Dense)                (None, 32)           1056        ['activation_17[0][0]']          \n",
            "                                                                                                  \n",
            " softmax_2 (Softmax)            (None, 32)           0           ['dense_5[0][0]']                \n",
            "                                                                                                  \n",
            "==================================================================================================\n",
            "Total params: 15,104\n",
            "Trainable params: 14,912\n",
            "Non-trainable params: 192\n",
            "__________________________________________________________________________________________________\n"
          ]
        }
      ],
      "source": [
        "from tensorflow.keras import Model, Input\n",
        "from tensorflow.keras.layers import Dense\n",
        "from tensorflow.keras.layers import *\n",
        "from tensorflow.keras.layers import AveragePooling1D, Conv1D, Flatten\n",
        "import keras.layers.normalization\n",
        "from tensorflow.keras.layers import BatchNormalization\n",
        "from tensorflow.keras.optimizers import Adamax\n",
        "\n",
        "\n",
        "inputs = Input(shape=(187,1))\n",
        "Conv1=Conv1D(filters=32, kernel_size=5, strides=2, padding='valid')(inputs)\n",
        "Relu1 = Activation(\"relu\")(Conv1)\n",
        "\n",
        "Conv2 = Conv1D(filters=32, kernel_size=2, strides=2, padding='valid')(Relu1)\n",
        "Relu2 = Activation(\"relu\")(Conv2)\n",
        "Avg1 = AveragePooling1D(pool_size=2, strides=2, padding='valid')(Relu1)\n",
        "S2 = Add()([Relu2, Avg1])\n",
        "\n",
        "Norm3 = BatchNormalization()(S2)\n",
        "Conv3 = Conv1D(filters=32, kernel_size=2, strides=2, padding='valid')(Norm3)\n",
        "Relu3 = Activation(\"relu\")(Conv3)\n",
        "Avg2 = AveragePooling1D(pool_size=2, strides=2, padding='valid')(S2)\n",
        "S3 = Add()([Relu3, Avg2])\n",
        "\n",
        "Norm4 = BatchNormalization()(S3)\n",
        "Conv4 = Conv1D(filters=32, kernel_size=2, strides=2, padding='valid')(Norm4)\n",
        "Relu4 = Activation(\"relu\")(Conv4)\n",
        "Avg3 = AveragePooling1D(pool_size=2, strides=2, padding='valid')(S3)\n",
        "S4 = Add()([Relu4, Avg3])\n",
        "\n",
        "Norm5 = BatchNormalization()(S4)\n",
        "Conv5 = Conv1D(filters=32, kernel_size=2, strides=2, padding='valid')(Norm5)\n",
        "Relu5 = Activation(\"relu\")(Conv5)\n",
        "\n",
        "F1 = Flatten()(Relu5)\n",
        "\n",
        "D1 = Dense(32)(F1)\n",
        "Relu6 = Activation(\"relu\")(D1)\n",
        "D2 = Dense(32)(Relu6)\n",
        "Relu7 = Softmax()(D2)\n",
        "\n",
        "model = Model(inputs=inputs, outputs=Relu7)\n",
        "\n",
        "model.compile(loss='sparse_categorical_crossentropy', optimizer=Adamax(learning_rate=0.001), metrics=['accuracy'])\n",
        "model.summary()"
      ]
    },
    {
      "cell_type": "code",
      "execution_count": 47,
      "metadata": {
        "id": "OOXjQJ_OOZjS"
      },
      "outputs": [],
      "source": [
        "loss_train_list=[]\n",
        "loss_val_list=[]\n",
        "acc_train_list=[]\n",
        "acc_val_list=[]\n",
        "epoch_save=-1"
      ]
    },
    {
      "cell_type": "markdown",
      "metadata": {
        "id": "XEVFA7sxOZjS"
      },
      "source": [
        "### Train the model"
      ]
    },
    {
      "cell_type": "code",
      "execution_count": 48,
      "metadata": {
        "colab": {
          "base_uri": "https://localhost:8080/"
        },
        "id": "5lz4J2sMOZjS",
        "outputId": "f6de7902-8bee-48a6-9098-2cb21696921b",
        "scrolled": false
      },
      "outputs": [
        {
          "output_type": "stream",
          "name": "stdout",
          "text": [
            "epoch 0\n",
            "44/44 [==============================] - 3s 27ms/step - loss: 2.3093 - accuracy: 0.4034 - val_loss: 2.9881 - val_accuracy: 0.3019\n",
            "epoch 1\n",
            "44/44 [==============================] - 1s 22ms/step - loss: 1.0652 - accuracy: 0.6744 - val_loss: 2.3129 - val_accuracy: 0.2435\n",
            "epoch 2\n",
            "44/44 [==============================] - 1s 22ms/step - loss: 0.7412 - accuracy: 0.7681 - val_loss: 2.1059 - val_accuracy: 0.2175\n",
            "epoch 3\n",
            "44/44 [==============================] - 1s 21ms/step - loss: 0.6319 - accuracy: 0.7923 - val_loss: 2.1170 - val_accuracy: 0.2208\n",
            "epoch 4\n",
            "44/44 [==============================] - 1s 22ms/step - loss: 0.5677 - accuracy: 0.8035 - val_loss: 2.2253 - val_accuracy: 0.2370\n",
            "epoch 5\n",
            "44/44 [==============================] - 1s 20ms/step - loss: 0.5246 - accuracy: 0.8122 - val_loss: 2.2633 - val_accuracy: 0.2662\n",
            "epoch 6\n",
            "44/44 [==============================] - 1s 22ms/step - loss: 0.4815 - accuracy: 0.8329 - val_loss: 2.2723 - val_accuracy: 0.3084\n",
            "epoch 7\n",
            "44/44 [==============================] - 1s 21ms/step - loss: 0.4526 - accuracy: 0.8423 - val_loss: 2.1299 - val_accuracy: 0.3766\n",
            "epoch 8\n",
            "44/44 [==============================] - 1s 22ms/step - loss: 0.4283 - accuracy: 0.8535 - val_loss: 1.9921 - val_accuracy: 0.4286\n",
            "epoch 9\n",
            "44/44 [==============================] - 1s 24ms/step - loss: 0.4053 - accuracy: 0.8560 - val_loss: 1.6927 - val_accuracy: 0.5000\n",
            "epoch 10\n",
            "44/44 [==============================] - 1s 25ms/step - loss: 0.3918 - accuracy: 0.8658 - val_loss: 1.5062 - val_accuracy: 0.5065\n",
            "epoch 11\n",
            "44/44 [==============================] - 2s 38ms/step - loss: 0.3761 - accuracy: 0.8687 - val_loss: 1.3097 - val_accuracy: 0.5649\n",
            "epoch 12\n",
            "44/44 [==============================] - 1s 21ms/step - loss: 0.3576 - accuracy: 0.8726 - val_loss: 0.9694 - val_accuracy: 0.6558\n",
            "epoch 13\n",
            "44/44 [==============================] - 1s 20ms/step - loss: 0.3475 - accuracy: 0.8784 - val_loss: 0.8033 - val_accuracy: 0.6981\n",
            "epoch 14\n",
            "44/44 [==============================] - 1s 21ms/step - loss: 0.3295 - accuracy: 0.8868 - val_loss: 0.6177 - val_accuracy: 0.7727\n",
            "epoch 15\n",
            "44/44 [==============================] - 1s 20ms/step - loss: 0.3242 - accuracy: 0.8886 - val_loss: 0.5889 - val_accuracy: 0.7987\n",
            "epoch 16\n",
            "44/44 [==============================] - 1s 20ms/step - loss: 0.3103 - accuracy: 0.8940 - val_loss: 0.5385 - val_accuracy: 0.8344\n",
            "epoch 17\n",
            "44/44 [==============================] - 1s 21ms/step - loss: 0.3014 - accuracy: 0.8965 - val_loss: 0.5209 - val_accuracy: 0.8182\n",
            "epoch 18\n",
            "44/44 [==============================] - 1s 21ms/step - loss: 0.2955 - accuracy: 0.8983 - val_loss: 0.5093 - val_accuracy: 0.8312\n",
            "epoch 19\n",
            "44/44 [==============================] - 1s 22ms/step - loss: 0.2858 - accuracy: 0.9030 - val_loss: 0.5177 - val_accuracy: 0.8149\n",
            "epoch 20\n",
            "44/44 [==============================] - 1s 22ms/step - loss: 0.2825 - accuracy: 0.9027 - val_loss: 0.4896 - val_accuracy: 0.8344\n",
            "epoch 21\n",
            "44/44 [==============================] - 1s 21ms/step - loss: 0.2660 - accuracy: 0.9106 - val_loss: 0.4912 - val_accuracy: 0.8409\n",
            "epoch 22\n",
            "44/44 [==============================] - 1s 21ms/step - loss: 0.2613 - accuracy: 0.9103 - val_loss: 0.4658 - val_accuracy: 0.8506\n",
            "epoch 23\n",
            "44/44 [==============================] - 1s 20ms/step - loss: 0.2548 - accuracy: 0.9153 - val_loss: 0.4887 - val_accuracy: 0.8247\n",
            "epoch 24\n",
            "44/44 [==============================] - 1s 21ms/step - loss: 0.2458 - accuracy: 0.9121 - val_loss: 0.4849 - val_accuracy: 0.8409\n",
            "epoch 25\n",
            "44/44 [==============================] - 1s 21ms/step - loss: 0.2454 - accuracy: 0.9146 - val_loss: 0.4910 - val_accuracy: 0.8442\n",
            "epoch 26\n",
            "44/44 [==============================] - 1s 20ms/step - loss: 0.2328 - accuracy: 0.9190 - val_loss: 0.4807 - val_accuracy: 0.8344\n",
            "epoch 27\n",
            "44/44 [==============================] - 1s 21ms/step - loss: 0.2247 - accuracy: 0.9179 - val_loss: 0.4875 - val_accuracy: 0.8474\n",
            "epoch 28\n",
            "44/44 [==============================] - 1s 21ms/step - loss: 0.2296 - accuracy: 0.9211 - val_loss: 0.4737 - val_accuracy: 0.8344\n",
            "epoch 29\n",
            "44/44 [==============================] - 1s 20ms/step - loss: 0.2170 - accuracy: 0.9262 - val_loss: 0.4750 - val_accuracy: 0.8442\n",
            "epoch 30\n",
            "44/44 [==============================] - 1s 20ms/step - loss: 0.2072 - accuracy: 0.9345 - val_loss: 0.4806 - val_accuracy: 0.8409\n",
            "epoch 31\n",
            "44/44 [==============================] - 1s 20ms/step - loss: 0.1991 - accuracy: 0.9356 - val_loss: 0.4757 - val_accuracy: 0.8474\n",
            "epoch 32\n",
            "44/44 [==============================] - 1s 22ms/step - loss: 0.1998 - accuracy: 0.9352 - val_loss: 0.5046 - val_accuracy: 0.8442\n",
            "epoch 33\n",
            "44/44 [==============================] - 1s 21ms/step - loss: 0.1905 - accuracy: 0.9367 - val_loss: 0.4773 - val_accuracy: 0.8409\n",
            "epoch 34\n",
            "44/44 [==============================] - 1s 22ms/step - loss: 0.1848 - accuracy: 0.9418 - val_loss: 0.4681 - val_accuracy: 0.8604\n",
            "epoch 35\n",
            "44/44 [==============================] - 1s 20ms/step - loss: 0.1862 - accuracy: 0.9403 - val_loss: 0.4678 - val_accuracy: 0.8474\n",
            "epoch 36\n",
            "44/44 [==============================] - 1s 20ms/step - loss: 0.1834 - accuracy: 0.9399 - val_loss: 0.4755 - val_accuracy: 0.8506\n",
            "epoch 37\n",
            "44/44 [==============================] - 1s 20ms/step - loss: 0.1694 - accuracy: 0.9497 - val_loss: 0.4686 - val_accuracy: 0.8506\n",
            "epoch 38\n",
            "44/44 [==============================] - 1s 20ms/step - loss: 0.1708 - accuracy: 0.9493 - val_loss: 0.4674 - val_accuracy: 0.8506\n",
            "epoch 39\n",
            "44/44 [==============================] - 1s 20ms/step - loss: 0.1612 - accuracy: 0.9493 - val_loss: 0.4991 - val_accuracy: 0.8474\n",
            "epoch 40\n",
            "44/44 [==============================] - 1s 21ms/step - loss: 0.1587 - accuracy: 0.9486 - val_loss: 0.4675 - val_accuracy: 0.8506\n",
            "epoch 41\n",
            "44/44 [==============================] - 1s 20ms/step - loss: 0.1552 - accuracy: 0.9541 - val_loss: 0.4505 - val_accuracy: 0.8604\n",
            "epoch 42\n",
            "44/44 [==============================] - 1s 19ms/step - loss: 0.1570 - accuracy: 0.9479 - val_loss: 0.4546 - val_accuracy: 0.8669\n",
            "epoch 43\n",
            "44/44 [==============================] - 1s 20ms/step - loss: 0.1443 - accuracy: 0.9566 - val_loss: 0.4757 - val_accuracy: 0.8539\n",
            "epoch 44\n",
            "44/44 [==============================] - 1s 21ms/step - loss: 0.1450 - accuracy: 0.9555 - val_loss: 0.4736 - val_accuracy: 0.8604\n",
            "epoch 45\n",
            "44/44 [==============================] - 1s 20ms/step - loss: 0.1380 - accuracy: 0.9620 - val_loss: 0.4856 - val_accuracy: 0.8669\n",
            "epoch 46\n",
            "44/44 [==============================] - 1s 19ms/step - loss: 0.1379 - accuracy: 0.9588 - val_loss: 0.4626 - val_accuracy: 0.8571\n",
            "epoch 47\n",
            "44/44 [==============================] - 1s 20ms/step - loss: 0.1266 - accuracy: 0.9620 - val_loss: 0.4663 - val_accuracy: 0.8506\n",
            "epoch 48\n",
            "44/44 [==============================] - 1s 20ms/step - loss: 0.1246 - accuracy: 0.9664 - val_loss: 0.4823 - val_accuracy: 0.8539\n",
            "epoch 49\n",
            "44/44 [==============================] - 1s 20ms/step - loss: 0.1306 - accuracy: 0.9638 - val_loss: 0.4805 - val_accuracy: 0.8636\n",
            "epoch 50\n",
            "44/44 [==============================] - 1s 19ms/step - loss: 0.1208 - accuracy: 0.9667 - val_loss: 0.4644 - val_accuracy: 0.8604\n",
            "epoch 51\n",
            "44/44 [==============================] - 1s 20ms/step - loss: 0.1211 - accuracy: 0.9645 - val_loss: 0.4824 - val_accuracy: 0.8604\n",
            "epoch 52\n",
            "44/44 [==============================] - 1s 19ms/step - loss: 0.1157 - accuracy: 0.9656 - val_loss: 0.4826 - val_accuracy: 0.8604\n",
            "epoch 53\n",
            "44/44 [==============================] - 1s 20ms/step - loss: 0.1134 - accuracy: 0.9696 - val_loss: 0.5061 - val_accuracy: 0.8506\n",
            "epoch 54\n",
            "44/44 [==============================] - 1s 21ms/step - loss: 0.1105 - accuracy: 0.9696 - val_loss: 0.4841 - val_accuracy: 0.8604\n",
            "epoch 55\n",
            "44/44 [==============================] - 1s 21ms/step - loss: 0.1058 - accuracy: 0.9689 - val_loss: 0.4978 - val_accuracy: 0.8604\n",
            "epoch 56\n",
            "44/44 [==============================] - 1s 20ms/step - loss: 0.1141 - accuracy: 0.9649 - val_loss: 0.4695 - val_accuracy: 0.8636\n",
            "epoch 57\n",
            "44/44 [==============================] - 1s 20ms/step - loss: 0.1022 - accuracy: 0.9725 - val_loss: 0.4827 - val_accuracy: 0.8669\n",
            "epoch 58\n",
            "44/44 [==============================] - 1s 21ms/step - loss: 0.0957 - accuracy: 0.9740 - val_loss: 0.4938 - val_accuracy: 0.8539\n",
            "epoch 59\n",
            "44/44 [==============================] - 1s 21ms/step - loss: 0.0982 - accuracy: 0.9754 - val_loss: 0.4724 - val_accuracy: 0.8701\n",
            "epoch 60\n",
            "44/44 [==============================] - 1s 21ms/step - loss: 0.0908 - accuracy: 0.9761 - val_loss: 0.5090 - val_accuracy: 0.8669\n",
            "epoch 61\n",
            "44/44 [==============================] - 1s 20ms/step - loss: 0.0888 - accuracy: 0.9783 - val_loss: 0.4977 - val_accuracy: 0.8669\n",
            "epoch 62\n",
            "44/44 [==============================] - 1s 19ms/step - loss: 0.0903 - accuracy: 0.9768 - val_loss: 0.5145 - val_accuracy: 0.8669\n",
            "epoch 63\n",
            "44/44 [==============================] - 1s 19ms/step - loss: 0.0893 - accuracy: 0.9736 - val_loss: 0.5080 - val_accuracy: 0.8669\n",
            "epoch 64\n",
            "44/44 [==============================] - 1s 20ms/step - loss: 0.0802 - accuracy: 0.9805 - val_loss: 0.5283 - val_accuracy: 0.8442\n",
            "epoch 65\n",
            "44/44 [==============================] - 1s 20ms/step - loss: 0.0790 - accuracy: 0.9812 - val_loss: 0.5134 - val_accuracy: 0.8636\n",
            "epoch 66\n",
            "44/44 [==============================] - 1s 20ms/step - loss: 0.0773 - accuracy: 0.9812 - val_loss: 0.4974 - val_accuracy: 0.8571\n",
            "epoch 67\n",
            "44/44 [==============================] - 1s 20ms/step - loss: 0.0718 - accuracy: 0.9852 - val_loss: 0.5146 - val_accuracy: 0.8636\n",
            "epoch 68\n",
            "44/44 [==============================] - 1s 20ms/step - loss: 0.0719 - accuracy: 0.9837 - val_loss: 0.4918 - val_accuracy: 0.8669\n",
            "epoch 69\n",
            "44/44 [==============================] - 1s 20ms/step - loss: 0.0691 - accuracy: 0.9844 - val_loss: 0.5131 - val_accuracy: 0.8701\n",
            "epoch 70\n",
            "44/44 [==============================] - 1s 20ms/step - loss: 0.0689 - accuracy: 0.9848 - val_loss: 0.5180 - val_accuracy: 0.8506\n",
            "epoch 71\n",
            "44/44 [==============================] - 1s 20ms/step - loss: 0.0675 - accuracy: 0.9844 - val_loss: 0.5153 - val_accuracy: 0.8669\n",
            "epoch 72\n",
            "44/44 [==============================] - 1s 20ms/step - loss: 0.0649 - accuracy: 0.9877 - val_loss: 0.5247 - val_accuracy: 0.8669\n",
            "epoch 73\n",
            "44/44 [==============================] - 1s 20ms/step - loss: 0.0592 - accuracy: 0.9881 - val_loss: 0.5413 - val_accuracy: 0.8604\n",
            "epoch 74\n",
            "44/44 [==============================] - 1s 20ms/step - loss: 0.0607 - accuracy: 0.9873 - val_loss: 0.5262 - val_accuracy: 0.8669\n",
            "epoch 75\n",
            "44/44 [==============================] - 1s 21ms/step - loss: 0.0697 - accuracy: 0.9794 - val_loss: 0.5220 - val_accuracy: 0.8539\n",
            "epoch 76\n",
            "44/44 [==============================] - 1s 20ms/step - loss: 0.0536 - accuracy: 0.9906 - val_loss: 0.5440 - val_accuracy: 0.8571\n",
            "epoch 77\n",
            "44/44 [==============================] - 1s 20ms/step - loss: 0.0570 - accuracy: 0.9899 - val_loss: 0.5409 - val_accuracy: 0.8506\n",
            "epoch 78\n",
            "44/44 [==============================] - 1s 21ms/step - loss: 0.0563 - accuracy: 0.9895 - val_loss: 0.5237 - val_accuracy: 0.8604\n",
            "epoch 79\n",
            "44/44 [==============================] - 1s 20ms/step - loss: 0.0549 - accuracy: 0.9902 - val_loss: 0.5601 - val_accuracy: 0.8539\n",
            "epoch 80\n",
            "44/44 [==============================] - 1s 21ms/step - loss: 0.0500 - accuracy: 0.9902 - val_loss: 0.5583 - val_accuracy: 0.8636\n",
            "epoch 81\n",
            "44/44 [==============================] - 1s 20ms/step - loss: 0.0493 - accuracy: 0.9931 - val_loss: 0.5693 - val_accuracy: 0.8636\n",
            "epoch 82\n",
            "44/44 [==============================] - 1s 20ms/step - loss: 0.0494 - accuracy: 0.9910 - val_loss: 0.5560 - val_accuracy: 0.8506\n",
            "epoch 83\n",
            "44/44 [==============================] - 1s 20ms/step - loss: 0.0487 - accuracy: 0.9913 - val_loss: 0.5604 - val_accuracy: 0.8636\n",
            "epoch 84\n",
            "44/44 [==============================] - 1s 21ms/step - loss: 0.0457 - accuracy: 0.9924 - val_loss: 0.5474 - val_accuracy: 0.8506\n",
            "epoch 85\n",
            "44/44 [==============================] - 1s 21ms/step - loss: 0.0516 - accuracy: 0.9917 - val_loss: 0.6113 - val_accuracy: 0.8604\n",
            "epoch 86\n",
            "44/44 [==============================] - 1s 20ms/step - loss: 0.0434 - accuracy: 0.9931 - val_loss: 0.6023 - val_accuracy: 0.8474\n",
            "epoch 87\n",
            "44/44 [==============================] - 1s 20ms/step - loss: 0.0448 - accuracy: 0.9917 - val_loss: 0.5754 - val_accuracy: 0.8604\n",
            "epoch 88\n",
            "44/44 [==============================] - 1s 20ms/step - loss: 0.0488 - accuracy: 0.9899 - val_loss: 0.5774 - val_accuracy: 0.8604\n",
            "epoch 89\n",
            "44/44 [==============================] - 1s 20ms/step - loss: 0.0424 - accuracy: 0.9920 - val_loss: 0.6119 - val_accuracy: 0.8636\n",
            "epoch 90\n",
            "44/44 [==============================] - 1s 20ms/step - loss: 0.0458 - accuracy: 0.9910 - val_loss: 0.6048 - val_accuracy: 0.8604\n",
            "epoch 91\n",
            "44/44 [==============================] - 1s 21ms/step - loss: 0.0365 - accuracy: 0.9946 - val_loss: 0.5844 - val_accuracy: 0.8636\n",
            "epoch 92\n",
            "44/44 [==============================] - 1s 20ms/step - loss: 0.0370 - accuracy: 0.9928 - val_loss: 0.5760 - val_accuracy: 0.8636\n",
            "epoch 93\n",
            "44/44 [==============================] - 1s 20ms/step - loss: 0.0342 - accuracy: 0.9964 - val_loss: 0.5745 - val_accuracy: 0.8539\n",
            "epoch 94\n",
            "44/44 [==============================] - 1s 20ms/step - loss: 0.0351 - accuracy: 0.9946 - val_loss: 0.5855 - val_accuracy: 0.8604\n",
            "epoch 95\n",
            "44/44 [==============================] - 1s 21ms/step - loss: 0.0335 - accuracy: 0.9953 - val_loss: 0.6059 - val_accuracy: 0.8474\n",
            "epoch 96\n",
            "44/44 [==============================] - 1s 20ms/step - loss: 0.0325 - accuracy: 0.9971 - val_loss: 0.6145 - val_accuracy: 0.8474\n",
            "epoch 97\n",
            "44/44 [==============================] - 1s 20ms/step - loss: 0.0358 - accuracy: 0.9942 - val_loss: 0.6215 - val_accuracy: 0.8506\n",
            "epoch 98\n",
            "44/44 [==============================] - 1s 20ms/step - loss: 0.0316 - accuracy: 0.9946 - val_loss: 0.5952 - val_accuracy: 0.8604\n",
            "epoch 99\n",
            "44/44 [==============================] - 1s 20ms/step - loss: 0.0300 - accuracy: 0.9960 - val_loss: 0.5867 - val_accuracy: 0.8571\n",
            "epoch 100\n",
            "44/44 [==============================] - 1s 21ms/step - loss: 0.0300 - accuracy: 0.9964 - val_loss: 0.6245 - val_accuracy: 0.8506\n",
            "epoch 101\n",
            "44/44 [==============================] - 1s 20ms/step - loss: 0.0305 - accuracy: 0.9949 - val_loss: 0.6380 - val_accuracy: 0.8506\n",
            "epoch 102\n",
            "44/44 [==============================] - 1s 20ms/step - loss: 0.0324 - accuracy: 0.9953 - val_loss: 0.6003 - val_accuracy: 0.8539\n",
            "epoch 103\n",
            "44/44 [==============================] - 1s 21ms/step - loss: 0.0301 - accuracy: 0.9960 - val_loss: 0.6348 - val_accuracy: 0.8604\n",
            "epoch 104\n",
            "44/44 [==============================] - 1s 21ms/step - loss: 0.0309 - accuracy: 0.9964 - val_loss: 0.6321 - val_accuracy: 0.8539\n",
            "epoch 105\n",
            "44/44 [==============================] - 1s 31ms/step - loss: 0.0277 - accuracy: 0.9967 - val_loss: 0.6093 - val_accuracy: 0.8571\n",
            "epoch 106\n",
            "44/44 [==============================] - 1s 21ms/step - loss: 0.0251 - accuracy: 0.9957 - val_loss: 0.6215 - val_accuracy: 0.8474\n",
            "epoch 107\n",
            "44/44 [==============================] - 1s 21ms/step - loss: 0.0255 - accuracy: 0.9978 - val_loss: 0.6275 - val_accuracy: 0.8636\n",
            "epoch 108\n",
            "44/44 [==============================] - 1s 21ms/step - loss: 0.0273 - accuracy: 0.9971 - val_loss: 0.6340 - val_accuracy: 0.8506\n",
            "epoch 109\n",
            "44/44 [==============================] - 1s 20ms/step - loss: 0.0243 - accuracy: 0.9967 - val_loss: 0.6124 - val_accuracy: 0.8539\n",
            "epoch 110\n",
            "44/44 [==============================] - 1s 20ms/step - loss: 0.0245 - accuracy: 0.9975 - val_loss: 0.6548 - val_accuracy: 0.8604\n",
            "epoch 111\n",
            "44/44 [==============================] - 1s 21ms/step - loss: 0.0227 - accuracy: 0.9978 - val_loss: 0.6415 - val_accuracy: 0.8377\n",
            "epoch 112\n",
            "44/44 [==============================] - 1s 20ms/step - loss: 0.0287 - accuracy: 0.9953 - val_loss: 0.6227 - val_accuracy: 0.8571\n",
            "epoch 113\n",
            "44/44 [==============================] - 1s 20ms/step - loss: 0.0278 - accuracy: 0.9953 - val_loss: 0.6385 - val_accuracy: 0.8474\n",
            "epoch 114\n",
            "44/44 [==============================] - 1s 20ms/step - loss: 0.0206 - accuracy: 0.9982 - val_loss: 0.6390 - val_accuracy: 0.8571\n",
            "epoch 115\n",
            "44/44 [==============================] - 1s 20ms/step - loss: 0.0239 - accuracy: 0.9967 - val_loss: 0.6363 - val_accuracy: 0.8571\n",
            "epoch 116\n",
            "44/44 [==============================] - 1s 20ms/step - loss: 0.0214 - accuracy: 0.9975 - val_loss: 0.6645 - val_accuracy: 0.8506\n",
            "epoch 117\n",
            "44/44 [==============================] - 1s 21ms/step - loss: 0.0207 - accuracy: 0.9975 - val_loss: 0.6397 - val_accuracy: 0.8604\n",
            "epoch 118\n",
            "44/44 [==============================] - 1s 21ms/step - loss: 0.0208 - accuracy: 0.9978 - val_loss: 0.6673 - val_accuracy: 0.8442\n",
            "epoch 119\n",
            "44/44 [==============================] - 1s 21ms/step - loss: 0.0248 - accuracy: 0.9957 - val_loss: 0.6324 - val_accuracy: 0.8506\n",
            "epoch 120\n",
            "44/44 [==============================] - 1s 21ms/step - loss: 0.0223 - accuracy: 0.9960 - val_loss: 0.6664 - val_accuracy: 0.8506\n",
            "epoch 121\n",
            "44/44 [==============================] - 1s 20ms/step - loss: 0.0208 - accuracy: 0.9978 - val_loss: 0.6812 - val_accuracy: 0.8506\n",
            "epoch 122\n",
            "44/44 [==============================] - 1s 20ms/step - loss: 0.0210 - accuracy: 0.9957 - val_loss: 0.6641 - val_accuracy: 0.8506\n",
            "epoch 123\n",
            "44/44 [==============================] - 1s 21ms/step - loss: 0.0199 - accuracy: 0.9978 - val_loss: 0.7017 - val_accuracy: 0.8442\n",
            "epoch 124\n",
            "44/44 [==============================] - 1s 20ms/step - loss: 0.0178 - accuracy: 0.9975 - val_loss: 0.6950 - val_accuracy: 0.8442\n",
            "epoch 125\n",
            "44/44 [==============================] - 1s 20ms/step - loss: 0.0204 - accuracy: 0.9975 - val_loss: 0.6593 - val_accuracy: 0.8539\n",
            "epoch 126\n",
            "44/44 [==============================] - 1s 20ms/step - loss: 0.0180 - accuracy: 0.9975 - val_loss: 0.6814 - val_accuracy: 0.8571\n",
            "epoch 127\n",
            "44/44 [==============================] - 1s 20ms/step - loss: 0.0185 - accuracy: 0.9986 - val_loss: 0.7037 - val_accuracy: 0.8474\n",
            "epoch 128\n",
            "44/44 [==============================] - 1s 20ms/step - loss: 0.0172 - accuracy: 0.9978 - val_loss: 0.6986 - val_accuracy: 0.8442\n",
            "epoch 129\n",
            "44/44 [==============================] - 1s 20ms/step - loss: 0.0196 - accuracy: 0.9953 - val_loss: 0.6951 - val_accuracy: 0.8506\n",
            "epoch 130\n",
            "44/44 [==============================] - 1s 20ms/step - loss: 0.0156 - accuracy: 0.9989 - val_loss: 0.7083 - val_accuracy: 0.8539\n",
            "epoch 131\n",
            "44/44 [==============================] - 1s 20ms/step - loss: 0.0168 - accuracy: 0.9982 - val_loss: 0.7059 - val_accuracy: 0.8442\n",
            "epoch 132\n",
            "44/44 [==============================] - 1s 21ms/step - loss: 0.0218 - accuracy: 0.9960 - val_loss: 0.7440 - val_accuracy: 0.8506\n",
            "epoch 133\n",
            "44/44 [==============================] - 1s 20ms/step - loss: 0.0149 - accuracy: 0.9982 - val_loss: 0.6942 - val_accuracy: 0.8506\n",
            "epoch 134\n",
            "44/44 [==============================] - 1s 20ms/step - loss: 0.0187 - accuracy: 0.9967 - val_loss: 0.6977 - val_accuracy: 0.8571\n",
            "epoch 135\n",
            "44/44 [==============================] - 1s 20ms/step - loss: 0.0160 - accuracy: 0.9971 - val_loss: 0.7161 - val_accuracy: 0.8539\n",
            "epoch 136\n",
            "44/44 [==============================] - 1s 20ms/step - loss: 0.0150 - accuracy: 0.9982 - val_loss: 0.7381 - val_accuracy: 0.8539\n",
            "epoch 137\n",
            "44/44 [==============================] - 1s 21ms/step - loss: 0.0173 - accuracy: 0.9975 - val_loss: 0.6966 - val_accuracy: 0.8409\n",
            "epoch 138\n",
            "44/44 [==============================] - 1s 19ms/step - loss: 0.0155 - accuracy: 0.9978 - val_loss: 0.6935 - val_accuracy: 0.8571\n",
            "epoch 139\n",
            "44/44 [==============================] - 1s 20ms/step - loss: 0.0140 - accuracy: 0.9986 - val_loss: 0.7043 - val_accuracy: 0.8604\n",
            "epoch 140\n",
            "44/44 [==============================] - 1s 21ms/step - loss: 0.0142 - accuracy: 0.9989 - val_loss: 0.7414 - val_accuracy: 0.8442\n",
            "epoch 141\n",
            "44/44 [==============================] - 1s 21ms/step - loss: 0.0139 - accuracy: 0.9975 - val_loss: 0.7242 - val_accuracy: 0.8506\n",
            "epoch 142\n",
            "44/44 [==============================] - 1s 20ms/step - loss: 0.0143 - accuracy: 0.9975 - val_loss: 0.7270 - val_accuracy: 0.8377\n",
            "epoch 143\n",
            "44/44 [==============================] - 1s 20ms/step - loss: 0.0215 - accuracy: 0.9964 - val_loss: 0.7475 - val_accuracy: 0.8571\n",
            "epoch 144\n",
            "44/44 [==============================] - 1s 20ms/step - loss: 0.0191 - accuracy: 0.9971 - val_loss: 0.7185 - val_accuracy: 0.8604\n",
            "epoch 145\n",
            "44/44 [==============================] - 1s 20ms/step - loss: 0.0140 - accuracy: 0.9978 - val_loss: 0.7319 - val_accuracy: 0.8442\n",
            "epoch 146\n",
            "44/44 [==============================] - 1s 20ms/step - loss: 0.0115 - accuracy: 0.9978 - val_loss: 0.7482 - val_accuracy: 0.8442\n",
            "epoch 147\n",
            "44/44 [==============================] - 1s 20ms/step - loss: 0.0125 - accuracy: 0.9989 - val_loss: 0.7826 - val_accuracy: 0.8442\n",
            "epoch 148\n",
            "44/44 [==============================] - 1s 20ms/step - loss: 0.0100 - accuracy: 1.0000 - val_loss: 0.7510 - val_accuracy: 0.8409\n",
            "epoch 149\n",
            "44/44 [==============================] - 1s 21ms/step - loss: 0.0120 - accuracy: 0.9978 - val_loss: 0.7618 - val_accuracy: 0.8409\n"
          ]
        }
      ],
      "source": [
        "epoch = 0\n",
        "for epoch in range(epoch_save+1, 150): #change 100 to a larger number if necessary\n",
        "    print('epoch', epoch)\n",
        "    history=model.fit(X_train, Y_train, batch_size=64, epochs=1, validation_data=(X_val, Y_val))\n",
        "    loss_train_list.extend(history.history['loss'])\n",
        "    loss_val_list.extend(history.history['val_loss'])\n",
        "    acc_train_list.extend(history.history['accuracy'])\n",
        "    acc_val_list.extend(history.history['val_accuracy'])\n",
        "    #save the model to a a HDF5 file \n",
        "    model.save('ECG_Keras_sCE_e'+str(epoch)+'.h5')"
      ]
    },
    {
      "cell_type": "markdown",
      "metadata": {
        "id": "FBSDSgFfOZjT"
      },
      "source": [
        "### Plot training loss vs epoch and validation loss vs epoch"
      ]
    },
    {
      "cell_type": "code",
      "execution_count": 49,
      "metadata": {
        "colab": {
          "base_uri": "https://localhost:8080/"
        },
        "id": "-KRkqHpuOZjT",
        "outputId": "8dcf78ee-bf37-4ddc-8757-cb53fe31ec2a"
      },
      "outputs": [
        {
          "output_type": "execute_result",
          "data": {
            "text/plain": [
              "dict_keys(['loss', 'accuracy', 'val_loss', 'val_accuracy'])"
            ]
          },
          "metadata": {},
          "execution_count": 49
        }
      ],
      "source": [
        "history.history.keys()"
      ]
    },
    {
      "cell_type": "code",
      "execution_count": 50,
      "metadata": {
        "colab": {
          "base_uri": "https://localhost:8080/",
          "height": 393
        },
        "id": "xsc9XDhROZjT",
        "outputId": "9984ee8a-810a-4007-db0b-77bccddf5e14"
      },
      "outputs": [
        {
          "output_type": "display_data",
          "data": {
            "text/plain": [
              "<Figure size 864x432 with 2 Axes>"
            ],
            "image/png": "[encoded data removed]"
          },
          "metadata": {
            "needs_background": "light"
          }
        }
      ],
      "source": [
        "fig, ax = plt.subplots(1, 2, figsize=(12,6))\n",
        "ax[0].plot(np.arange(0,len(loss_train_list)), loss_train_list, '-b', label='training loss')\n",
        "ax[0].plot(np.arange(0,len(loss_val_list)), loss_val_list, '-r', label='validation loss')\n",
        "ax[0].set_xlabel('epoch',fontsize=16)\n",
        "ax[0].legend(fontsize=16)\n",
        "ax[0].grid(True)\n",
        "ax[1].plot(np.arange(0,len(acc_train_list)), acc_train_list, '-b', label='training accuracy')\n",
        "ax[1].plot(np.arange(0,len(acc_val_list)), acc_val_list, '-r', label='validation accuracy')\n",
        "ax[1].set_xlabel('epoch',fontsize=16)\n",
        "ax[1].legend(fontsize=16)\n",
        "ax[1].grid(True)"
      ]
    },
    {
      "cell_type": "markdown",
      "metadata": {
        "id": "tRXmqXsiOZjU"
      },
      "source": [
        "### Test the model"
      ]
    },
    {
      "cell_type": "code",
      "execution_count": 51,
      "metadata": {
        "colab": {
          "base_uri": "https://localhost:8080/"
        },
        "id": "_R3FxdyLt-Rd",
        "outputId": "d1dfee2f-46ff-430b-b3e3-4a4a4d7424ec"
      },
      "outputs": [
        {
          "output_type": "execute_result",
          "data": {
            "text/plain": [
              "59"
            ]
          },
          "metadata": {},
          "execution_count": 51
        }
      ],
      "source": [
        "#load the best model\n",
        "best_epoch=np.argmax(acc_val_list)\n",
        "best_epoch"
      ]
    },
    {
      "cell_type": "code",
      "execution_count": 52,
      "metadata": {
        "id": "GMUgAglLuP1l"
      },
      "outputs": [],
      "source": [
        "import tensorflow\n",
        "model = tensorflow.keras.models.load_model(\"ECG_Keras_sCE_e\"+str(best_epoch)+\".h5\")"
      ]
    },
    {
      "cell_type": "code",
      "execution_count": 54,
      "metadata": {
        "colab": {
          "base_uri": "https://localhost:8080/"
        },
        "id": "kvtKs2SOOZjU",
        "outputId": "a956f6de-4e15-40c4-d1bd-d4f291ccd881"
      },
      "outputs": [
        {
          "output_type": "stream",
          "name": "stdout",
          "text": [
            "Test loss: 0.35478711128234863\n",
            "Test accuracy: 0.8855656981468201\n"
          ]
        }
      ],
      "source": [
        "score = model.evaluate(X_test, Y_test, batch_size=64, verbose=0)\n",
        "print('Test loss:', score[0])\n",
        "print('Test accuracy:', score[1])"
      ]
    },
    {
      "cell_type": "markdown",
      "metadata": {
        "id": "XJOCI3OhOZjU"
      },
      "source": [
        "### Make Prediction on the test set"
      ]
    },
    {
      "cell_type": "code",
      "execution_count": 55,
      "metadata": {
        "colab": {
          "base_uri": "https://localhost:8080/"
        },
        "id": "RZUvb8pVOZjU",
        "outputId": "29f62675-309c-4284-889e-5eeb2c4d7adf"
      },
      "outputs": [
        {
          "output_type": "stream",
          "name": "stdout",
          "text": [
            "13/13 [==============================] - 0s 8ms/step\n"
          ]
        }
      ],
      "source": [
        "Y_test_pred=model.predict(X_test, batch_size=64)"
      ]
    },
    {
      "cell_type": "code",
      "execution_count": 56,
      "metadata": {
        "colab": {
          "base_uri": "https://localhost:8080/"
        },
        "id": "zvgO9El9QfrW",
        "outputId": "0e4a812d-1277-4638-cfbe-c90154cbbcff"
      },
      "outputs": [
        {
          "output_type": "execute_result",
          "data": {
            "text/plain": [
              "array([1.2218069e-03, 9.9875206e-01, 4.3798145e-06, 2.1190583e-05,\n",
              "       6.4288940e-07, 1.9115507e-09, 4.7243338e-09, 1.9566716e-10,\n",
              "       4.8556376e-10, 2.8666116e-13, 3.0094052e-11, 1.2314961e-11,\n",
              "       5.2536493e-11, 4.5253129e-10, 2.5444946e-11, 1.0303493e-12,\n",
              "       6.7804290e-11, 1.3010361e-12, 1.4865364e-11, 4.8712401e-10,\n",
              "       2.0643733e-09, 4.5890250e-10, 1.6170285e-10, 6.1564859e-10,\n",
              "       1.1610028e-09, 9.0009472e-10, 1.1335937e-09, 5.7121413e-12,\n",
              "       4.3775233e-11, 1.4343405e-11, 8.7329571e-10, 1.5385279e-09],\n",
              "      dtype=float32)"
            ]
          },
          "metadata": {},
          "execution_count": 56
        }
      ],
      "source": [
        "Y_test_pred[0]"
      ]
    },
    {
      "cell_type": "code",
      "execution_count": 57,
      "metadata": {
        "colab": {
          "base_uri": "https://localhost:8080/"
        },
        "id": "_epAiYquOZjV",
        "outputId": "679c96aa-2912-4fc9-a188-8208bc64a99d"
      },
      "outputs": [
        {
          "output_type": "execute_result",
          "data": {
            "text/plain": [
              "1"
            ]
          },
          "metadata": {},
          "execution_count": 57
        }
      ],
      "source": [
        "np.argmax(Y_test_pred[0])"
      ]
    },
    {
      "cell_type": "code",
      "execution_count": 58,
      "metadata": {
        "colab": {
          "base_uri": "https://localhost:8080/"
        },
        "id": "Gb6ZtDyDOZjV",
        "outputId": "2b62ef9e-7e3c-4833-be71-b753acbbf83c"
      },
      "outputs": [
        {
          "output_type": "execute_result",
          "data": {
            "text/plain": [
              "1"
            ]
          },
          "metadata": {},
          "execution_count": 58
        }
      ],
      "source": [
        "Y_test[0]"
      ]
    },
    {
      "cell_type": "code",
      "execution_count": 59,
      "metadata": {
        "id": "MAt-AFp1wKhU"
      },
      "outputs": [],
      "source": [
        "Y_test_pred=np.argmax(Y_test_pred, axis=1)"
      ]
    },
    {
      "cell_type": "code",
      "execution_count": 60,
      "metadata": {
        "colab": {
          "base_uri": "https://localhost:8080/"
        },
        "id": "ql1Ui3ekv92b",
        "outputId": "df02950a-561c-4d4f-8a99-582f4cdef63b"
      },
      "outputs": [
        {
          "output_type": "stream",
          "name": "stdout",
          "text": [
            "              precision    recall  f1-score   support\n",
            "\n",
            "           0       0.79      0.84      0.82       176\n",
            "           1       0.84      0.85      0.85       154\n",
            "           2       0.92      0.91      0.92       146\n",
            "           3       0.92      0.89      0.90       122\n",
            "           4       0.98      0.94      0.96       171\n",
            "\n",
            "    accuracy                           0.89       769\n",
            "   macro avg       0.89      0.89      0.89       769\n",
            "weighted avg       0.89      0.89      0.89       769\n",
            "\n"
          ]
        }
      ],
      "source": [
        "from sklearn.metrics import classification_report\n",
        "print(classification_report(Y_test, Y_test_pred))"
      ]
    }
  ],
  "metadata": {
    "colab": {
      "provenance": []
    },
    "kernelspec": {
      "display_name": "Python 3 (ipykernel)",
      "language": "python",
      "name": "python3"
    },
    "language_info": {
      "codemirror_mode": {
        "name": "ipython",
        "version": 3
      },
      "file_extension": ".py",
      "mimetype": "text/x-python",
      "name": "python",
      "nbconvert_exporter": "python",
      "pygments_lexer": "ipython3",
      "version": "3.10.4"
    }
  },
  "nbformat": 4,
  "nbformat_minor": 0
}